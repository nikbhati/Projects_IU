{
 "cells": [
  {
   "cell_type": "markdown",
   "id": "d7e27dbd-260c-46a3-b1ea-f7c50feeae66",
   "metadata": {},
   "source": [
    "# Assignment 2\n",
    "# Nikunj Bhatia"
   ]
  },
  {
   "cell_type": "markdown",
   "id": "1e7d450a-e327-4a9a-80ac-ad4fe751110d",
   "metadata": {},
   "source": [
    "# Q1 K-Means"
   ]
  },
  {
   "cell_type": "code",
   "execution_count": 104,
   "id": "e66c06a7-bf60-4714-9bcb-1a1bc0c18853",
   "metadata": {},
   "outputs": [],
   "source": [
    "import pandas as pd\n",
    "import numpy as np\n",
    "import random as rd"
   ]
  },
  {
   "cell_type": "code",
   "execution_count": 105,
   "id": "bc138728-3e33-4e38-a9f7-aa2a5fe4b704",
   "metadata": {},
   "outputs": [],
   "source": [
    "df=pd.read_csv('data.csv')"
   ]
  },
  {
   "cell_type": "code",
   "execution_count": 106,
   "id": "00f44156-a2b5-4970-9bc0-298519114ff4",
   "metadata": {},
   "outputs": [
    {
     "data": {
      "text/html": [
       "<div>\n",
       "<style scoped>\n",
       "    .dataframe tbody tr th:only-of-type {\n",
       "        vertical-align: middle;\n",
       "    }\n",
       "\n",
       "    .dataframe tbody tr th {\n",
       "        vertical-align: top;\n",
       "    }\n",
       "\n",
       "    .dataframe thead th {\n",
       "        text-align: right;\n",
       "    }\n",
       "</style>\n",
       "<table border=\"1\" class=\"dataframe\">\n",
       "  <thead>\n",
       "    <tr style=\"text-align: right;\">\n",
       "      <th></th>\n",
       "      <th>id</th>\n",
       "      <th>diagnosis</th>\n",
       "      <th>radius_mean</th>\n",
       "      <th>texture_mean</th>\n",
       "      <th>perimeter_mean</th>\n",
       "      <th>area_mean</th>\n",
       "      <th>smoothness_mean</th>\n",
       "      <th>compactness_mean</th>\n",
       "      <th>concavity_mean</th>\n",
       "      <th>concave points_mean</th>\n",
       "      <th>...</th>\n",
       "      <th>texture_worst</th>\n",
       "      <th>perimeter_worst</th>\n",
       "      <th>area_worst</th>\n",
       "      <th>smoothness_worst</th>\n",
       "      <th>compactness_worst</th>\n",
       "      <th>concavity_worst</th>\n",
       "      <th>concave points_worst</th>\n",
       "      <th>symmetry_worst</th>\n",
       "      <th>fractal_dimension_worst</th>\n",
       "      <th>Unnamed: 32</th>\n",
       "    </tr>\n",
       "  </thead>\n",
       "  <tbody>\n",
       "    <tr>\n",
       "      <th>0</th>\n",
       "      <td>842302</td>\n",
       "      <td>M</td>\n",
       "      <td>17.99</td>\n",
       "      <td>10.38</td>\n",
       "      <td>122.80</td>\n",
       "      <td>1001.0</td>\n",
       "      <td>0.11840</td>\n",
       "      <td>0.27760</td>\n",
       "      <td>0.3001</td>\n",
       "      <td>0.14710</td>\n",
       "      <td>...</td>\n",
       "      <td>17.33</td>\n",
       "      <td>184.60</td>\n",
       "      <td>2019.0</td>\n",
       "      <td>0.1622</td>\n",
       "      <td>0.6656</td>\n",
       "      <td>0.7119</td>\n",
       "      <td>0.2654</td>\n",
       "      <td>0.4601</td>\n",
       "      <td>0.11890</td>\n",
       "      <td>NaN</td>\n",
       "    </tr>\n",
       "    <tr>\n",
       "      <th>1</th>\n",
       "      <td>842517</td>\n",
       "      <td>M</td>\n",
       "      <td>20.57</td>\n",
       "      <td>17.77</td>\n",
       "      <td>132.90</td>\n",
       "      <td>1326.0</td>\n",
       "      <td>0.08474</td>\n",
       "      <td>0.07864</td>\n",
       "      <td>0.0869</td>\n",
       "      <td>0.07017</td>\n",
       "      <td>...</td>\n",
       "      <td>23.41</td>\n",
       "      <td>158.80</td>\n",
       "      <td>1956.0</td>\n",
       "      <td>0.1238</td>\n",
       "      <td>0.1866</td>\n",
       "      <td>0.2416</td>\n",
       "      <td>0.1860</td>\n",
       "      <td>0.2750</td>\n",
       "      <td>0.08902</td>\n",
       "      <td>NaN</td>\n",
       "    </tr>\n",
       "    <tr>\n",
       "      <th>2</th>\n",
       "      <td>84300903</td>\n",
       "      <td>M</td>\n",
       "      <td>19.69</td>\n",
       "      <td>21.25</td>\n",
       "      <td>130.00</td>\n",
       "      <td>1203.0</td>\n",
       "      <td>0.10960</td>\n",
       "      <td>0.15990</td>\n",
       "      <td>0.1974</td>\n",
       "      <td>0.12790</td>\n",
       "      <td>...</td>\n",
       "      <td>25.53</td>\n",
       "      <td>152.50</td>\n",
       "      <td>1709.0</td>\n",
       "      <td>0.1444</td>\n",
       "      <td>0.4245</td>\n",
       "      <td>0.4504</td>\n",
       "      <td>0.2430</td>\n",
       "      <td>0.3613</td>\n",
       "      <td>0.08758</td>\n",
       "      <td>NaN</td>\n",
       "    </tr>\n",
       "    <tr>\n",
       "      <th>3</th>\n",
       "      <td>84348301</td>\n",
       "      <td>M</td>\n",
       "      <td>11.42</td>\n",
       "      <td>20.38</td>\n",
       "      <td>77.58</td>\n",
       "      <td>386.1</td>\n",
       "      <td>0.14250</td>\n",
       "      <td>0.28390</td>\n",
       "      <td>0.2414</td>\n",
       "      <td>0.10520</td>\n",
       "      <td>...</td>\n",
       "      <td>26.50</td>\n",
       "      <td>98.87</td>\n",
       "      <td>567.7</td>\n",
       "      <td>0.2098</td>\n",
       "      <td>0.8663</td>\n",
       "      <td>0.6869</td>\n",
       "      <td>0.2575</td>\n",
       "      <td>0.6638</td>\n",
       "      <td>0.17300</td>\n",
       "      <td>NaN</td>\n",
       "    </tr>\n",
       "    <tr>\n",
       "      <th>4</th>\n",
       "      <td>84358402</td>\n",
       "      <td>M</td>\n",
       "      <td>20.29</td>\n",
       "      <td>14.34</td>\n",
       "      <td>135.10</td>\n",
       "      <td>1297.0</td>\n",
       "      <td>0.10030</td>\n",
       "      <td>0.13280</td>\n",
       "      <td>0.1980</td>\n",
       "      <td>0.10430</td>\n",
       "      <td>...</td>\n",
       "      <td>16.67</td>\n",
       "      <td>152.20</td>\n",
       "      <td>1575.0</td>\n",
       "      <td>0.1374</td>\n",
       "      <td>0.2050</td>\n",
       "      <td>0.4000</td>\n",
       "      <td>0.1625</td>\n",
       "      <td>0.2364</td>\n",
       "      <td>0.07678</td>\n",
       "      <td>NaN</td>\n",
       "    </tr>\n",
       "  </tbody>\n",
       "</table>\n",
       "<p>5 rows × 33 columns</p>\n",
       "</div>"
      ],
      "text/plain": [
       "         id diagnosis  radius_mean  texture_mean  perimeter_mean  area_mean  \\\n",
       "0    842302         M        17.99         10.38          122.80     1001.0   \n",
       "1    842517         M        20.57         17.77          132.90     1326.0   \n",
       "2  84300903         M        19.69         21.25          130.00     1203.0   \n",
       "3  84348301         M        11.42         20.38           77.58      386.1   \n",
       "4  84358402         M        20.29         14.34          135.10     1297.0   \n",
       "\n",
       "   smoothness_mean  compactness_mean  concavity_mean  concave points_mean  \\\n",
       "0          0.11840           0.27760          0.3001              0.14710   \n",
       "1          0.08474           0.07864          0.0869              0.07017   \n",
       "2          0.10960           0.15990          0.1974              0.12790   \n",
       "3          0.14250           0.28390          0.2414              0.10520   \n",
       "4          0.10030           0.13280          0.1980              0.10430   \n",
       "\n",
       "   ...  texture_worst  perimeter_worst  area_worst  smoothness_worst  \\\n",
       "0  ...          17.33           184.60      2019.0            0.1622   \n",
       "1  ...          23.41           158.80      1956.0            0.1238   \n",
       "2  ...          25.53           152.50      1709.0            0.1444   \n",
       "3  ...          26.50            98.87       567.7            0.2098   \n",
       "4  ...          16.67           152.20      1575.0            0.1374   \n",
       "\n",
       "   compactness_worst  concavity_worst  concave points_worst  symmetry_worst  \\\n",
       "0             0.6656           0.7119                0.2654          0.4601   \n",
       "1             0.1866           0.2416                0.1860          0.2750   \n",
       "2             0.4245           0.4504                0.2430          0.3613   \n",
       "3             0.8663           0.6869                0.2575          0.6638   \n",
       "4             0.2050           0.4000                0.1625          0.2364   \n",
       "\n",
       "   fractal_dimension_worst  Unnamed: 32  \n",
       "0                  0.11890          NaN  \n",
       "1                  0.08902          NaN  \n",
       "2                  0.08758          NaN  \n",
       "3                  0.17300          NaN  \n",
       "4                  0.07678          NaN  \n",
       "\n",
       "[5 rows x 33 columns]"
      ]
     },
     "execution_count": 106,
     "metadata": {},
     "output_type": "execute_result"
    }
   ],
   "source": [
    "df.head()"
   ]
  },
  {
   "cell_type": "code",
   "execution_count": 107,
   "id": "3c5b76a6-d5fc-4cab-89b9-84efc23c12d0",
   "metadata": {},
   "outputs": [
    {
     "data": {
      "text/html": [
       "<div>\n",
       "<style scoped>\n",
       "    .dataframe tbody tr th:only-of-type {\n",
       "        vertical-align: middle;\n",
       "    }\n",
       "\n",
       "    .dataframe tbody tr th {\n",
       "        vertical-align: top;\n",
       "    }\n",
       "\n",
       "    .dataframe thead th {\n",
       "        text-align: right;\n",
       "    }\n",
       "</style>\n",
       "<table border=\"1\" class=\"dataframe\">\n",
       "  <thead>\n",
       "    <tr style=\"text-align: right;\">\n",
       "      <th></th>\n",
       "      <th>id</th>\n",
       "      <th>radius_mean</th>\n",
       "      <th>texture_mean</th>\n",
       "      <th>perimeter_mean</th>\n",
       "      <th>area_mean</th>\n",
       "      <th>smoothness_mean</th>\n",
       "      <th>compactness_mean</th>\n",
       "      <th>concavity_mean</th>\n",
       "      <th>concave points_mean</th>\n",
       "      <th>symmetry_mean</th>\n",
       "      <th>...</th>\n",
       "      <th>texture_worst</th>\n",
       "      <th>perimeter_worst</th>\n",
       "      <th>area_worst</th>\n",
       "      <th>smoothness_worst</th>\n",
       "      <th>compactness_worst</th>\n",
       "      <th>concavity_worst</th>\n",
       "      <th>concave points_worst</th>\n",
       "      <th>symmetry_worst</th>\n",
       "      <th>fractal_dimension_worst</th>\n",
       "      <th>Unnamed: 32</th>\n",
       "    </tr>\n",
       "  </thead>\n",
       "  <tbody>\n",
       "    <tr>\n",
       "      <th>count</th>\n",
       "      <td>5.690000e+02</td>\n",
       "      <td>569.000000</td>\n",
       "      <td>569.000000</td>\n",
       "      <td>569.000000</td>\n",
       "      <td>569.000000</td>\n",
       "      <td>569.000000</td>\n",
       "      <td>569.000000</td>\n",
       "      <td>569.000000</td>\n",
       "      <td>569.000000</td>\n",
       "      <td>569.000000</td>\n",
       "      <td>...</td>\n",
       "      <td>569.000000</td>\n",
       "      <td>569.000000</td>\n",
       "      <td>569.000000</td>\n",
       "      <td>569.000000</td>\n",
       "      <td>569.000000</td>\n",
       "      <td>569.000000</td>\n",
       "      <td>569.000000</td>\n",
       "      <td>569.000000</td>\n",
       "      <td>569.000000</td>\n",
       "      <td>0.0</td>\n",
       "    </tr>\n",
       "    <tr>\n",
       "      <th>mean</th>\n",
       "      <td>3.037183e+07</td>\n",
       "      <td>14.127292</td>\n",
       "      <td>19.289649</td>\n",
       "      <td>91.969033</td>\n",
       "      <td>654.889104</td>\n",
       "      <td>0.096360</td>\n",
       "      <td>0.104341</td>\n",
       "      <td>0.088799</td>\n",
       "      <td>0.048919</td>\n",
       "      <td>0.181162</td>\n",
       "      <td>...</td>\n",
       "      <td>25.677223</td>\n",
       "      <td>107.261213</td>\n",
       "      <td>880.583128</td>\n",
       "      <td>0.132369</td>\n",
       "      <td>0.254265</td>\n",
       "      <td>0.272188</td>\n",
       "      <td>0.114606</td>\n",
       "      <td>0.290076</td>\n",
       "      <td>0.083946</td>\n",
       "      <td>NaN</td>\n",
       "    </tr>\n",
       "    <tr>\n",
       "      <th>std</th>\n",
       "      <td>1.250206e+08</td>\n",
       "      <td>3.524049</td>\n",
       "      <td>4.301036</td>\n",
       "      <td>24.298981</td>\n",
       "      <td>351.914129</td>\n",
       "      <td>0.014064</td>\n",
       "      <td>0.052813</td>\n",
       "      <td>0.079720</td>\n",
       "      <td>0.038803</td>\n",
       "      <td>0.027414</td>\n",
       "      <td>...</td>\n",
       "      <td>6.146258</td>\n",
       "      <td>33.602542</td>\n",
       "      <td>569.356993</td>\n",
       "      <td>0.022832</td>\n",
       "      <td>0.157336</td>\n",
       "      <td>0.208624</td>\n",
       "      <td>0.065732</td>\n",
       "      <td>0.061867</td>\n",
       "      <td>0.018061</td>\n",
       "      <td>NaN</td>\n",
       "    </tr>\n",
       "    <tr>\n",
       "      <th>min</th>\n",
       "      <td>8.670000e+03</td>\n",
       "      <td>6.981000</td>\n",
       "      <td>9.710000</td>\n",
       "      <td>43.790000</td>\n",
       "      <td>143.500000</td>\n",
       "      <td>0.052630</td>\n",
       "      <td>0.019380</td>\n",
       "      <td>0.000000</td>\n",
       "      <td>0.000000</td>\n",
       "      <td>0.106000</td>\n",
       "      <td>...</td>\n",
       "      <td>12.020000</td>\n",
       "      <td>50.410000</td>\n",
       "      <td>185.200000</td>\n",
       "      <td>0.071170</td>\n",
       "      <td>0.027290</td>\n",
       "      <td>0.000000</td>\n",
       "      <td>0.000000</td>\n",
       "      <td>0.156500</td>\n",
       "      <td>0.055040</td>\n",
       "      <td>NaN</td>\n",
       "    </tr>\n",
       "    <tr>\n",
       "      <th>25%</th>\n",
       "      <td>8.692180e+05</td>\n",
       "      <td>11.700000</td>\n",
       "      <td>16.170000</td>\n",
       "      <td>75.170000</td>\n",
       "      <td>420.300000</td>\n",
       "      <td>0.086370</td>\n",
       "      <td>0.064920</td>\n",
       "      <td>0.029560</td>\n",
       "      <td>0.020310</td>\n",
       "      <td>0.161900</td>\n",
       "      <td>...</td>\n",
       "      <td>21.080000</td>\n",
       "      <td>84.110000</td>\n",
       "      <td>515.300000</td>\n",
       "      <td>0.116600</td>\n",
       "      <td>0.147200</td>\n",
       "      <td>0.114500</td>\n",
       "      <td>0.064930</td>\n",
       "      <td>0.250400</td>\n",
       "      <td>0.071460</td>\n",
       "      <td>NaN</td>\n",
       "    </tr>\n",
       "    <tr>\n",
       "      <th>50%</th>\n",
       "      <td>9.060240e+05</td>\n",
       "      <td>13.370000</td>\n",
       "      <td>18.840000</td>\n",
       "      <td>86.240000</td>\n",
       "      <td>551.100000</td>\n",
       "      <td>0.095870</td>\n",
       "      <td>0.092630</td>\n",
       "      <td>0.061540</td>\n",
       "      <td>0.033500</td>\n",
       "      <td>0.179200</td>\n",
       "      <td>...</td>\n",
       "      <td>25.410000</td>\n",
       "      <td>97.660000</td>\n",
       "      <td>686.500000</td>\n",
       "      <td>0.131300</td>\n",
       "      <td>0.211900</td>\n",
       "      <td>0.226700</td>\n",
       "      <td>0.099930</td>\n",
       "      <td>0.282200</td>\n",
       "      <td>0.080040</td>\n",
       "      <td>NaN</td>\n",
       "    </tr>\n",
       "    <tr>\n",
       "      <th>75%</th>\n",
       "      <td>8.813129e+06</td>\n",
       "      <td>15.780000</td>\n",
       "      <td>21.800000</td>\n",
       "      <td>104.100000</td>\n",
       "      <td>782.700000</td>\n",
       "      <td>0.105300</td>\n",
       "      <td>0.130400</td>\n",
       "      <td>0.130700</td>\n",
       "      <td>0.074000</td>\n",
       "      <td>0.195700</td>\n",
       "      <td>...</td>\n",
       "      <td>29.720000</td>\n",
       "      <td>125.400000</td>\n",
       "      <td>1084.000000</td>\n",
       "      <td>0.146000</td>\n",
       "      <td>0.339100</td>\n",
       "      <td>0.382900</td>\n",
       "      <td>0.161400</td>\n",
       "      <td>0.317900</td>\n",
       "      <td>0.092080</td>\n",
       "      <td>NaN</td>\n",
       "    </tr>\n",
       "    <tr>\n",
       "      <th>max</th>\n",
       "      <td>9.113205e+08</td>\n",
       "      <td>28.110000</td>\n",
       "      <td>39.280000</td>\n",
       "      <td>188.500000</td>\n",
       "      <td>2501.000000</td>\n",
       "      <td>0.163400</td>\n",
       "      <td>0.345400</td>\n",
       "      <td>0.426800</td>\n",
       "      <td>0.201200</td>\n",
       "      <td>0.304000</td>\n",
       "      <td>...</td>\n",
       "      <td>49.540000</td>\n",
       "      <td>251.200000</td>\n",
       "      <td>4254.000000</td>\n",
       "      <td>0.222600</td>\n",
       "      <td>1.058000</td>\n",
       "      <td>1.252000</td>\n",
       "      <td>0.291000</td>\n",
       "      <td>0.663800</td>\n",
       "      <td>0.207500</td>\n",
       "      <td>NaN</td>\n",
       "    </tr>\n",
       "  </tbody>\n",
       "</table>\n",
       "<p>8 rows × 32 columns</p>\n",
       "</div>"
      ],
      "text/plain": [
       "                 id  radius_mean  texture_mean  perimeter_mean    area_mean  \\\n",
       "count  5.690000e+02   569.000000    569.000000      569.000000   569.000000   \n",
       "mean   3.037183e+07    14.127292     19.289649       91.969033   654.889104   \n",
       "std    1.250206e+08     3.524049      4.301036       24.298981   351.914129   \n",
       "min    8.670000e+03     6.981000      9.710000       43.790000   143.500000   \n",
       "25%    8.692180e+05    11.700000     16.170000       75.170000   420.300000   \n",
       "50%    9.060240e+05    13.370000     18.840000       86.240000   551.100000   \n",
       "75%    8.813129e+06    15.780000     21.800000      104.100000   782.700000   \n",
       "max    9.113205e+08    28.110000     39.280000      188.500000  2501.000000   \n",
       "\n",
       "       smoothness_mean  compactness_mean  concavity_mean  concave points_mean  \\\n",
       "count       569.000000        569.000000      569.000000           569.000000   \n",
       "mean          0.096360          0.104341        0.088799             0.048919   \n",
       "std           0.014064          0.052813        0.079720             0.038803   \n",
       "min           0.052630          0.019380        0.000000             0.000000   \n",
       "25%           0.086370          0.064920        0.029560             0.020310   \n",
       "50%           0.095870          0.092630        0.061540             0.033500   \n",
       "75%           0.105300          0.130400        0.130700             0.074000   \n",
       "max           0.163400          0.345400        0.426800             0.201200   \n",
       "\n",
       "       symmetry_mean  ...  texture_worst  perimeter_worst   area_worst  \\\n",
       "count     569.000000  ...     569.000000       569.000000   569.000000   \n",
       "mean        0.181162  ...      25.677223       107.261213   880.583128   \n",
       "std         0.027414  ...       6.146258        33.602542   569.356993   \n",
       "min         0.106000  ...      12.020000        50.410000   185.200000   \n",
       "25%         0.161900  ...      21.080000        84.110000   515.300000   \n",
       "50%         0.179200  ...      25.410000        97.660000   686.500000   \n",
       "75%         0.195700  ...      29.720000       125.400000  1084.000000   \n",
       "max         0.304000  ...      49.540000       251.200000  4254.000000   \n",
       "\n",
       "       smoothness_worst  compactness_worst  concavity_worst  \\\n",
       "count        569.000000         569.000000       569.000000   \n",
       "mean           0.132369           0.254265         0.272188   \n",
       "std            0.022832           0.157336         0.208624   \n",
       "min            0.071170           0.027290         0.000000   \n",
       "25%            0.116600           0.147200         0.114500   \n",
       "50%            0.131300           0.211900         0.226700   \n",
       "75%            0.146000           0.339100         0.382900   \n",
       "max            0.222600           1.058000         1.252000   \n",
       "\n",
       "       concave points_worst  symmetry_worst  fractal_dimension_worst  \\\n",
       "count            569.000000      569.000000               569.000000   \n",
       "mean               0.114606        0.290076                 0.083946   \n",
       "std                0.065732        0.061867                 0.018061   \n",
       "min                0.000000        0.156500                 0.055040   \n",
       "25%                0.064930        0.250400                 0.071460   \n",
       "50%                0.099930        0.282200                 0.080040   \n",
       "75%                0.161400        0.317900                 0.092080   \n",
       "max                0.291000        0.663800                 0.207500   \n",
       "\n",
       "       Unnamed: 32  \n",
       "count          0.0  \n",
       "mean           NaN  \n",
       "std            NaN  \n",
       "min            NaN  \n",
       "25%            NaN  \n",
       "50%            NaN  \n",
       "75%            NaN  \n",
       "max            NaN  \n",
       "\n",
       "[8 rows x 32 columns]"
      ]
     },
     "execution_count": 107,
     "metadata": {},
     "output_type": "execute_result"
    }
   ],
   "source": [
    "df.describe()"
   ]
  },
  {
   "cell_type": "code",
   "execution_count": 108,
   "id": "191d5ae8-71dd-4c6e-b2d2-f9119a23a5b8",
   "metadata": {},
   "outputs": [
    {
     "name": "stdout",
     "output_type": "stream",
     "text": [
      "<class 'pandas.core.frame.DataFrame'>\n",
      "RangeIndex: 569 entries, 0 to 568\n",
      "Data columns (total 33 columns):\n",
      " #   Column                   Non-Null Count  Dtype  \n",
      "---  ------                   --------------  -----  \n",
      " 0   id                       569 non-null    int64  \n",
      " 1   diagnosis                569 non-null    object \n",
      " 2   radius_mean              569 non-null    float64\n",
      " 3   texture_mean             569 non-null    float64\n",
      " 4   perimeter_mean           569 non-null    float64\n",
      " 5   area_mean                569 non-null    float64\n",
      " 6   smoothness_mean          569 non-null    float64\n",
      " 7   compactness_mean         569 non-null    float64\n",
      " 8   concavity_mean           569 non-null    float64\n",
      " 9   concave points_mean      569 non-null    float64\n",
      " 10  symmetry_mean            569 non-null    float64\n",
      " 11  fractal_dimension_mean   569 non-null    float64\n",
      " 12  radius_se                569 non-null    float64\n",
      " 13  texture_se               569 non-null    float64\n",
      " 14  perimeter_se             569 non-null    float64\n",
      " 15  area_se                  569 non-null    float64\n",
      " 16  smoothness_se            569 non-null    float64\n",
      " 17  compactness_se           569 non-null    float64\n",
      " 18  concavity_se             569 non-null    float64\n",
      " 19  concave points_se        569 non-null    float64\n",
      " 20  symmetry_se              569 non-null    float64\n",
      " 21  fractal_dimension_se     569 non-null    float64\n",
      " 22  radius_worst             569 non-null    float64\n",
      " 23  texture_worst            569 non-null    float64\n",
      " 24  perimeter_worst          569 non-null    float64\n",
      " 25  area_worst               569 non-null    float64\n",
      " 26  smoothness_worst         569 non-null    float64\n",
      " 27  compactness_worst        569 non-null    float64\n",
      " 28  concavity_worst          569 non-null    float64\n",
      " 29  concave points_worst     569 non-null    float64\n",
      " 30  symmetry_worst           569 non-null    float64\n",
      " 31  fractal_dimension_worst  569 non-null    float64\n",
      " 32  Unnamed: 32              0 non-null      float64\n",
      "dtypes: float64(31), int64(1), object(1)\n",
      "memory usage: 146.8+ KB\n"
     ]
    }
   ],
   "source": [
    "df.info()"
   ]
  },
  {
   "cell_type": "code",
   "execution_count": 109,
   "id": "20d7c902-a8c2-4c18-ad7d-528e1c29bca8",
   "metadata": {},
   "outputs": [
    {
     "data": {
      "text/plain": [
       "id                           0\n",
       "diagnosis                    0\n",
       "radius_mean                  0\n",
       "texture_mean                 0\n",
       "perimeter_mean               0\n",
       "area_mean                    0\n",
       "smoothness_mean              0\n",
       "compactness_mean             0\n",
       "concavity_mean               0\n",
       "concave points_mean          0\n",
       "symmetry_mean                0\n",
       "fractal_dimension_mean       0\n",
       "radius_se                    0\n",
       "texture_se                   0\n",
       "perimeter_se                 0\n",
       "area_se                      0\n",
       "smoothness_se                0\n",
       "compactness_se               0\n",
       "concavity_se                 0\n",
       "concave points_se            0\n",
       "symmetry_se                  0\n",
       "fractal_dimension_se         0\n",
       "radius_worst                 0\n",
       "texture_worst                0\n",
       "perimeter_worst              0\n",
       "area_worst                   0\n",
       "smoothness_worst             0\n",
       "compactness_worst            0\n",
       "concavity_worst              0\n",
       "concave points_worst         0\n",
       "symmetry_worst               0\n",
       "fractal_dimension_worst      0\n",
       "Unnamed: 32                569\n",
       "dtype: int64"
      ]
     },
     "execution_count": 109,
     "metadata": {},
     "output_type": "execute_result"
    }
   ],
   "source": [
    "df.isnull().sum()"
   ]
  },
  {
   "cell_type": "code",
   "execution_count": 110,
   "id": "aa200fb0-7cf5-4140-833c-bf801e49130a",
   "metadata": {},
   "outputs": [],
   "source": [
    "df.drop(['id','Unnamed: 32'],axis=1,inplace=True)"
   ]
  },
  {
   "cell_type": "code",
   "execution_count": 111,
   "id": "a3416de2-6684-46fa-ba63-409aea871ac3",
   "metadata": {},
   "outputs": [],
   "source": [
    "import matplotlib.pyplot as plt\n",
    "import math as m"
   ]
  },
  {
   "cell_type": "code",
   "execution_count": 112,
   "id": "300bf7df-fea9-41e2-83b9-965d77534a16",
   "metadata": {},
   "outputs": [],
   "source": [
    "class color:\n",
    "    PURPLE = '\\033[95m'\n",
    "    CYAN = '\\033[96m'\n",
    "    DARKCYAN = '\\033[36m'\n",
    "    BLUE = '\\033[94m'\n",
    "    GREEN = '\\033[92m'\n",
    "    YELLOW = '\\033[93m'\n",
    "    RED = '\\033[91m'\n",
    "    BOLD = '\\033[1m'\n",
    "    UNDERLNE = '\\033[4m'\n",
    "    END = '\\033[0m'"
   ]
  },
  {
   "cell_type": "code",
   "execution_count": 113,
   "id": "ea9dc1ca-7e96-458f-a803-dbf7a6395d6b",
   "metadata": {},
   "outputs": [],
   "source": [
    "def plot_data(X):\n",
    "    plt.figure(figsize=(7.5,6))\n",
    "    for i in range(len(X)):\n",
    "        plt.scatter(X[i][0],X[i][1],color='k')"
   ]
  },
  {
   "cell_type": "code",
   "execution_count": 114,
   "id": "b317815c-c6eb-4874-98de-ecd5e70ca678",
   "metadata": {},
   "outputs": [],
   "source": [
    "def random_centroid(X,k):\n",
    "    #Creating k random indices and using the data point at that indices as centroid \n",
    "    random_idx=[np.random.randint(len(X)) for i in range(k)]\n",
    "    centroids=[]\n",
    "    for i in random_idx:\n",
    "        centroids.append(X[i])\n",
    "    return centroids"
   ]
  },
  {
   "cell_type": "code",
   "execution_count": 115,
   "id": "6fd3ac28-20ca-443d-ae2f-2fa64ae3f79d",
   "metadata": {},
   "outputs": [],
   "source": [
    "def assign_cluster(X,ini_centroids,k):\n",
    "    cluster=[] \n",
    "    for i in range(len(X)):\n",
    "        euc_dist=[] \n",
    "        for j in range(k):\n",
    "            euc_dist.append(np.linalg.norm(np.subtract(X[i],ini_centroids[j]))) \n",
    "        idx=np.argmin(euc_dist) \n",
    "        cluster.append(idx) \n",
    "    return np.asarray(cluster)"
   ]
  },
  {
   "cell_type": "code",
   "execution_count": 116,
   "id": "b59a3125-6197-4010-9350-542180cd290f",
   "metadata": {},
   "outputs": [],
   "source": [
    "def compute_centroid(X,clusters,k):\n",
    "    centroid = [] #stores the centroid values\n",
    "    for i in range(k):\n",
    "        temp_arr=[]\n",
    "        for j in range(len(X)):\n",
    "            \n",
    "            if clusters[j]==i:\n",
    "                temp_arr.append(X[j])\n",
    "        \n",
    "        centroid.append(np.mean(temp_arr,axis=0))\n",
    "    return np.asarray(centroid)"
   ]
  },
  {
   "cell_type": "code",
   "execution_count": 117,
   "id": "ec9d0a9e-6762-4fe4-a55e-94b1f7c2a714",
   "metadata": {},
   "outputs": [],
   "source": [
    "\n",
    "def difference(prev,nxt):\n",
    "    diff=0\n",
    "    for i in range(len(prev)):\n",
    "        diff+=np.linalg.norm(prev[i]-nxt[i])\n",
    "    return diff"
   ]
  },
  {
   "cell_type": "code",
   "execution_count": 118,
   "id": "daef94e6-5d91-4093-864a-aaa472b1db4a",
   "metadata": {},
   "outputs": [],
   "source": [
    "def show_clusters(X,clusters,centroids,ini_centroids,mark_centroid=True,show_ini_centroid=True,show_plots=True):\n",
    "    cols={0:'r',1:'b',2:'g',3:'coral',4:'c',5:'lime'}\n",
    "    fig,ax=plt.subplots(figsize=(7.5,6));\n",
    "    for i in range(len(clusters)):\n",
    "        ax.scatter(X[i][0],X[i][1],color=cols[clusters[i]])\n",
    "    for j in range(len(centroids)):\n",
    "        ax.scatter(centroids[j][0],centroids[j][1],marker='*',color=cols[j])\n",
    "        if show_ini_centroid==True:\n",
    "            ax.scatter(ini_centroids[j][0],ini_centroids[j][1],marker=\"+\",s=150,color=cols[j])\n",
    "    if mark_centroid==True:\n",
    "        for i in range(len(centroids)):\n",
    "            ax.add_artist(plt.Circle((centroids[i][0],centroids[i][1]),0.4,linewidth=2,fill=False))\n",
    "            if show_ini_centroid==True:\n",
    "                ax.add_artist(plt.Circle((ini_centroids[i][0],ini_centroids[i][1]),0.4,linewidth=2,color='y',fill=False))\n",
    "    ax.set_xlabel(\"Feature 1\")\n",
    "    ax.set_ylabel(\"Feature 2\")\n",
    "    ax.set_title(\"K-means Clustering\")\n",
    "    if show_plots==True:\n",
    "        plt.show()"
   ]
  },
  {
   "cell_type": "code",
   "execution_count": 119,
   "id": "f411f5d2-40ed-4487-9eb3-13a50408e98e",
   "metadata": {},
   "outputs": [],
   "source": [
    "\n",
    "def k_means(X,k,show_type='all',show_plots=True):\n",
    "    c_prev=random_centroid(X,k)\n",
    "    cluster=assign_cluster(X,c_prev,k)\n",
    "    diff = 100 \n",
    "    ini_centroid = c_prev; \n",
    "    \n",
    "    print(color.BOLD+\"NOTE:\\n + and Yellow Circle -> Initial Centroid\\n * andBlack Circle -> Final Centroid\"+color.END)\n",
    "    \n",
    "    \n",
    "    if show_plots:\n",
    "        print(color.BOLD+\"\\n\\nInitial Plot:\\n\"+color.END)\n",
    "        show_clusters(X,cluster,c_prev,ini_centroid,show_plots=show_plots)\n",
    "    while diff>0.0001:\n",
    "        cluster = assign_cluster(X,c_prev,k) \n",
    "        \n",
    "        if show_type=='all' and show_plots:\n",
    "            show_clusters(X,cluster,c_prev,ini_centroid,False,False,show_plots=show_plots)\n",
    "            mark_centroid=False \n",
    "            show_ini_centroid=False \n",
    "        c_new = compute_centroid(X,cluster,k) \n",
    "        diff = difference(c_prev,c_new) \n",
    "        c_prev=c_new \n",
    "    \n",
    "    if show_plots:\n",
    "        print(color.BOLD+\"\\nInitial Cluster Centers:\\n\"+color.END)\n",
    "        print(ini_centroid)\n",
    "        print(color.BOLD+\"\\nFinal Cluster Centers:\\n\"+color.END)\n",
    "        print(c_prev)\n",
    "        print(color.BOLD+\"\\n\\nFinal Plot:\\n\"+color.END) \n",
    "        show_clusters(X,cluster,c_prev,ini_centroid,mark_centroid=True,show_ini_centroid=True)    \n",
    "    return cluster,c_prev"
   ]
  },
  {
   "cell_type": "code",
   "execution_count": 120,
   "id": "2dab90a6-cfb1-4029-992a-1dda23ca333d",
   "metadata": {},
   "outputs": [],
   "source": [
    "def validate(original_clus,my_clus,k):\n",
    "    ori_grp=[]\n",
    "    my_grp=[]\n",
    "    for i in range(k):\n",
    "        temp=[]\n",
    "        temp1=[]\n",
    "        for j in range(len(my_clus)):\n",
    "            if my_clus[j]==i:\n",
    "                temp.append(j)\n",
    "            if original_clus[j]==i:\n",
    "                temp1.append(j)\n",
    "        my_grp.append(temp)\n",
    "        ori_grp.append(temp1)\n",
    "    same_bool=True\n",
    "    for f in range(len(ori_grp)):\n",
    "        if my_grp[f] not in ori_grp:\n",
    "            print(color.BOLD+\"Not Same\"+color.END)\n",
    "            same_bool=False\n",
    "            break;\n",
    "    if same_bool:\n",
    "        print(color.BOLD+\"Both the clusters are equal\"+color.END)"
   ]
  },
  {
   "cell_type": "code",
   "execution_count": 121,
   "id": "c7f58178-e34c-46e5-8fb6-d4e1ad474dbc",
   "metadata": {},
   "outputs": [],
   "source": [
    "k=2"
   ]
  },
  {
   "cell_type": "code",
   "execution_count": 122,
   "id": "5533657e-c0ec-492b-8410-800970160837",
   "metadata": {},
   "outputs": [],
   "source": [
    "X=df.drop('diagnosis',axis=1).values"
   ]
  },
  {
   "cell_type": "code",
   "execution_count": 123,
   "id": "bfb32b53-9750-437b-bb5b-b257cff7f178",
   "metadata": {},
   "outputs": [
    {
     "data": {
      "image/png": "[encoded data removed]",
      "text/plain": [
       "<Figure size 540x432 with 1 Axes>"
      ]
     },
     "metadata": {
      "needs_background": "light"
     },
     "output_type": "display_data"
    }
   ],
   "source": [
    "plot_data(X)"
   ]
  },
  {
   "cell_type": "code",
   "execution_count": 124,
   "id": "19c016e2-8957-4eab-be9b-fc303501258b",
   "metadata": {},
   "outputs": [
    {
     "name": "stdout",
     "output_type": "stream",
     "text": [
      "\u001b[1mNOTE:\n",
      " + and Yellow Circle -> Initial Centroid\n",
      " * andBlack Circle -> Final Centroid\u001b[0m\n",
      "\u001b[1m\n",
      "\n",
      "Initial Plot:\n",
      "\u001b[0m\n"
     ]
    },
    {
     "data": {
      "image/png": "[encoded data removed]",
      "text/plain": [
       "<Figure size 540x432 with 1 Axes>"
      ]
     },
     "metadata": {
      "needs_background": "light"
     },
     "output_type": "display_data"
    },
    {
     "name": "stdout",
     "output_type": "stream",
     "text": [
      "\u001b[1m\n",
      "Initial Cluster Centers:\n",
      "\u001b[0m\n",
      "[array([1.366e+01, 1.515e+01, 8.827e+01, 5.806e+02, 8.268e-02, 7.548e-02,\n",
      "       4.249e-02, 2.471e-02, 1.792e-01, 5.897e-02, 1.402e-01, 5.417e-01,\n",
      "       1.101e+00, 1.135e+01, 5.212e-03, 2.984e-02, 2.443e-02, 8.356e-03,\n",
      "       1.818e-02, 4.868e-03, 1.454e+01, 1.964e+01, 9.796e+01, 6.570e+02,\n",
      "       1.275e-01, 3.104e-01, 2.569e-01, 1.054e-01, 3.387e-01, 9.638e-02]), array([1.495e+01, 1.757e+01, 9.685e+01, 6.781e+02, 1.167e-01, 1.305e-01,\n",
      "       1.539e-01, 8.624e-02, 1.957e-01, 6.216e-02, 1.296e+00, 1.452e+00,\n",
      "       8.419e+00, 1.019e+02, 1.000e-02, 3.480e-02, 6.577e-02, 2.801e-02,\n",
      "       5.168e-02, 2.887e-03, 1.855e+01, 2.143e+01, 1.214e+02, 9.714e+02,\n",
      "       1.411e-01, 2.164e-01, 3.355e-01, 1.667e-01, 3.414e-01, 7.147e-02])]\n",
      "\u001b[1m\n",
      "Final Cluster Centers:\n",
      "\u001b[0m\n",
      "[[1.25562991e+01 1.85703653e+01 8.11234703e+01 4.96061872e+02\n",
      "  9.48844977e-02 9.10998174e-02 6.24377642e-02 3.34325434e-02\n",
      "  1.78057991e-01 6.34540183e-02 3.04190868e-01 1.21515320e+00\n",
      "  2.15288059e+00 2.37852922e+01 7.17326256e-03 2.34746895e-02\n",
      "  2.87455128e-02 1.06363242e-02 2.06135799e-02 3.74750297e-03\n",
      "  1.40439018e+01 2.47095434e+01 9.19375114e+01 6.19647945e+02\n",
      "  1.29959110e-01 2.23311758e-01 2.19214947e-01 9.13298425e-02\n",
      "  2.83553653e-01 8.32819406e-02]\n",
      " [1.93799237e+01 2.16945802e+01 1.28231298e+02 1.18592977e+03\n",
      "  1.01294580e-01 1.48612977e-01 1.76939466e-01 1.00698779e-01\n",
      "  1.91539695e-01 6.06029008e-02 7.42803817e-01 1.22253817e+00\n",
      "  5.25058015e+00 9.56781679e+01 6.59868702e-03 3.21766947e-02\n",
      "  4.24197710e-02 1.56739847e-02 2.03039695e-02 3.95338931e-03\n",
      "  2.37094656e+01 2.89126718e+01 1.58496183e+02 1.75302290e+03\n",
      "  1.40424733e-01 3.57757710e-01 4.49306107e-01 1.92431069e-01\n",
      "  3.11881679e-01 8.61654962e-02]]\n",
      "\u001b[1m\n",
      "\n",
      "Final Plot:\n",
      "\u001b[0m\n"
     ]
    },
    {
     "data": {
      "image/png": "[encoded data removed]",
      "text/plain": [
       "<Figure size 540x432 with 1 Axes>"
      ]
     },
     "metadata": {
      "needs_background": "light"
     },
     "output_type": "display_data"
    }
   ],
   "source": [
    "\n",
    "cluster,centroid = k_means(X,k,show_type='ini_fin')"
   ]
  },
  {
   "cell_type": "code",
   "execution_count": 125,
   "id": "9331ea4e-a18b-4713-b566-248d6b585b1c",
   "metadata": {},
   "outputs": [],
   "source": [
    "from sklearn.cluster import KMeans"
   ]
  },
  {
   "cell_type": "code",
   "execution_count": 126,
   "id": "f75f5361-2229-4461-a93b-ff148f8d2c74",
   "metadata": {},
   "outputs": [],
   "source": [
    "y=df['diagnosis'].values"
   ]
  },
  {
   "cell_type": "code",
   "execution_count": 127,
   "id": "3abaeaa9-2c46-45e0-940e-726b2660bb92",
   "metadata": {},
   "outputs": [],
   "source": [
    "y_num = []\n",
    "for item in y:\n",
    "    if item=='M':\n",
    "        y_num.append(0)\n",
    "    else:\n",
    "        y_num.append(1)"
   ]
  },
  {
   "cell_type": "code",
   "execution_count": 128,
   "id": "186cef8f-0aec-46ee-99b7-4bf65050155c",
   "metadata": {},
   "outputs": [],
   "source": [
    "km = KMeans(\n",
    "    n_clusters=2, init='random',\n",
    "    n_init=10, max_iter=300, \n",
    "    tol=1e-04, random_state=0\n",
    ")\n",
    "y_km = km.fit_predict(X)"
   ]
  },
  {
   "cell_type": "code",
   "execution_count": 129,
   "id": "b870bf0f-d880-44d0-84d6-497d8fe01c1b",
   "metadata": {},
   "outputs": [],
   "source": [
    "from sklearn import metrics"
   ]
  },
  {
   "cell_type": "code",
   "execution_count": 130,
   "id": "74f9f33c-2868-4cd4-829a-1aa9c0d734ee",
   "metadata": {},
   "outputs": [
    {
     "name": "stdout",
     "output_type": "stream",
     "text": [
      "accuracy: 0.8541300527240774\n"
     ]
    }
   ],
   "source": [
    "print(\"accuracy:\",metrics.accuracy_score(y_num, y_km))"
   ]
  },
  {
   "cell_type": "markdown",
   "id": "47fe913b-46c6-43b4-bf05-94f123a11a23",
   "metadata": {},
   "source": [
    "# We get accuracy of 85.4% of our K-Means model."
   ]
  },
  {
   "cell_type": "code",
   "execution_count": 131,
   "id": "6c5a37e3-e36e-4f5d-bd9c-5ac2c4ffcdfb",
   "metadata": {},
   "outputs": [
    {
     "data": {
      "image/png": "[encoded data removed]",
      "text/plain": [
       "<Figure size 432x288 with 1 Axes>"
      ]
     },
     "metadata": {
      "needs_background": "light"
     },
     "output_type": "display_data"
    }
   ],
   "source": [
    "plt.scatter(X[y_km == 0, 0], X[y_km == 0, 1],c='blue')\n",
    "plt.scatter(X[y_km == 1, 0], X[y_km == 1, 1],c='black')\n",
    "plt.show()"
   ]
  },
  {
   "cell_type": "code",
   "execution_count": 132,
   "id": "1972083a-bf07-4937-932e-71c68943b6c8",
   "metadata": {},
   "outputs": [],
   "source": [
    "#Supervised Learning\n",
    "import pandas as pd\n",
    "from sklearn.tree import DecisionTreeClassifier\n",
    "from sklearn.model_selection import train_test_split\n",
    "from sklearn import metrics\n"
   ]
  },
  {
   "cell_type": "code",
   "execution_count": 133,
   "id": "58c28bd1-9295-42fb-a2d1-3e636855c4dd",
   "metadata": {},
   "outputs": [
    {
     "data": {
      "text/html": [
       "<div>\n",
       "<style scoped>\n",
       "    .dataframe tbody tr th:only-of-type {\n",
       "        vertical-align: middle;\n",
       "    }\n",
       "\n",
       "    .dataframe tbody tr th {\n",
       "        vertical-align: top;\n",
       "    }\n",
       "\n",
       "    .dataframe thead th {\n",
       "        text-align: right;\n",
       "    }\n",
       "</style>\n",
       "<table border=\"1\" class=\"dataframe\">\n",
       "  <thead>\n",
       "    <tr style=\"text-align: right;\">\n",
       "      <th></th>\n",
       "      <th>diagnosis</th>\n",
       "      <th>radius_mean</th>\n",
       "      <th>texture_mean</th>\n",
       "      <th>perimeter_mean</th>\n",
       "      <th>area_mean</th>\n",
       "      <th>smoothness_mean</th>\n",
       "      <th>compactness_mean</th>\n",
       "      <th>concavity_mean</th>\n",
       "      <th>concave points_mean</th>\n",
       "      <th>symmetry_mean</th>\n",
       "      <th>...</th>\n",
       "      <th>radius_worst</th>\n",
       "      <th>texture_worst</th>\n",
       "      <th>perimeter_worst</th>\n",
       "      <th>area_worst</th>\n",
       "      <th>smoothness_worst</th>\n",
       "      <th>compactness_worst</th>\n",
       "      <th>concavity_worst</th>\n",
       "      <th>concave points_worst</th>\n",
       "      <th>symmetry_worst</th>\n",
       "      <th>fractal_dimension_worst</th>\n",
       "    </tr>\n",
       "  </thead>\n",
       "  <tbody>\n",
       "    <tr>\n",
       "      <th>0</th>\n",
       "      <td>M</td>\n",
       "      <td>17.99</td>\n",
       "      <td>10.38</td>\n",
       "      <td>122.80</td>\n",
       "      <td>1001.0</td>\n",
       "      <td>0.11840</td>\n",
       "      <td>0.27760</td>\n",
       "      <td>0.3001</td>\n",
       "      <td>0.14710</td>\n",
       "      <td>0.2419</td>\n",
       "      <td>...</td>\n",
       "      <td>25.38</td>\n",
       "      <td>17.33</td>\n",
       "      <td>184.60</td>\n",
       "      <td>2019.0</td>\n",
       "      <td>0.1622</td>\n",
       "      <td>0.6656</td>\n",
       "      <td>0.7119</td>\n",
       "      <td>0.2654</td>\n",
       "      <td>0.4601</td>\n",
       "      <td>0.11890</td>\n",
       "    </tr>\n",
       "    <tr>\n",
       "      <th>1</th>\n",
       "      <td>M</td>\n",
       "      <td>20.57</td>\n",
       "      <td>17.77</td>\n",
       "      <td>132.90</td>\n",
       "      <td>1326.0</td>\n",
       "      <td>0.08474</td>\n",
       "      <td>0.07864</td>\n",
       "      <td>0.0869</td>\n",
       "      <td>0.07017</td>\n",
       "      <td>0.1812</td>\n",
       "      <td>...</td>\n",
       "      <td>24.99</td>\n",
       "      <td>23.41</td>\n",
       "      <td>158.80</td>\n",
       "      <td>1956.0</td>\n",
       "      <td>0.1238</td>\n",
       "      <td>0.1866</td>\n",
       "      <td>0.2416</td>\n",
       "      <td>0.1860</td>\n",
       "      <td>0.2750</td>\n",
       "      <td>0.08902</td>\n",
       "    </tr>\n",
       "    <tr>\n",
       "      <th>2</th>\n",
       "      <td>M</td>\n",
       "      <td>19.69</td>\n",
       "      <td>21.25</td>\n",
       "      <td>130.00</td>\n",
       "      <td>1203.0</td>\n",
       "      <td>0.10960</td>\n",
       "      <td>0.15990</td>\n",
       "      <td>0.1974</td>\n",
       "      <td>0.12790</td>\n",
       "      <td>0.2069</td>\n",
       "      <td>...</td>\n",
       "      <td>23.57</td>\n",
       "      <td>25.53</td>\n",
       "      <td>152.50</td>\n",
       "      <td>1709.0</td>\n",
       "      <td>0.1444</td>\n",
       "      <td>0.4245</td>\n",
       "      <td>0.4504</td>\n",
       "      <td>0.2430</td>\n",
       "      <td>0.3613</td>\n",
       "      <td>0.08758</td>\n",
       "    </tr>\n",
       "    <tr>\n",
       "      <th>3</th>\n",
       "      <td>M</td>\n",
       "      <td>11.42</td>\n",
       "      <td>20.38</td>\n",
       "      <td>77.58</td>\n",
       "      <td>386.1</td>\n",
       "      <td>0.14250</td>\n",
       "      <td>0.28390</td>\n",
       "      <td>0.2414</td>\n",
       "      <td>0.10520</td>\n",
       "      <td>0.2597</td>\n",
       "      <td>...</td>\n",
       "      <td>14.91</td>\n",
       "      <td>26.50</td>\n",
       "      <td>98.87</td>\n",
       "      <td>567.7</td>\n",
       "      <td>0.2098</td>\n",
       "      <td>0.8663</td>\n",
       "      <td>0.6869</td>\n",
       "      <td>0.2575</td>\n",
       "      <td>0.6638</td>\n",
       "      <td>0.17300</td>\n",
       "    </tr>\n",
       "    <tr>\n",
       "      <th>4</th>\n",
       "      <td>M</td>\n",
       "      <td>20.29</td>\n",
       "      <td>14.34</td>\n",
       "      <td>135.10</td>\n",
       "      <td>1297.0</td>\n",
       "      <td>0.10030</td>\n",
       "      <td>0.13280</td>\n",
       "      <td>0.1980</td>\n",
       "      <td>0.10430</td>\n",
       "      <td>0.1809</td>\n",
       "      <td>...</td>\n",
       "      <td>22.54</td>\n",
       "      <td>16.67</td>\n",
       "      <td>152.20</td>\n",
       "      <td>1575.0</td>\n",
       "      <td>0.1374</td>\n",
       "      <td>0.2050</td>\n",
       "      <td>0.4000</td>\n",
       "      <td>0.1625</td>\n",
       "      <td>0.2364</td>\n",
       "      <td>0.07678</td>\n",
       "    </tr>\n",
       "  </tbody>\n",
       "</table>\n",
       "<p>5 rows × 31 columns</p>\n",
       "</div>"
      ],
      "text/plain": [
       "  diagnosis  radius_mean  texture_mean  perimeter_mean  area_mean  \\\n",
       "0         M        17.99         10.38          122.80     1001.0   \n",
       "1         M        20.57         17.77          132.90     1326.0   \n",
       "2         M        19.69         21.25          130.00     1203.0   \n",
       "3         M        11.42         20.38           77.58      386.1   \n",
       "4         M        20.29         14.34          135.10     1297.0   \n",
       "\n",
       "   smoothness_mean  compactness_mean  concavity_mean  concave points_mean  \\\n",
       "0          0.11840           0.27760          0.3001              0.14710   \n",
       "1          0.08474           0.07864          0.0869              0.07017   \n",
       "2          0.10960           0.15990          0.1974              0.12790   \n",
       "3          0.14250           0.28390          0.2414              0.10520   \n",
       "4          0.10030           0.13280          0.1980              0.10430   \n",
       "\n",
       "   symmetry_mean  ...  radius_worst  texture_worst  perimeter_worst  \\\n",
       "0         0.2419  ...         25.38          17.33           184.60   \n",
       "1         0.1812  ...         24.99          23.41           158.80   \n",
       "2         0.2069  ...         23.57          25.53           152.50   \n",
       "3         0.2597  ...         14.91          26.50            98.87   \n",
       "4         0.1809  ...         22.54          16.67           152.20   \n",
       "\n",
       "   area_worst  smoothness_worst  compactness_worst  concavity_worst  \\\n",
       "0      2019.0            0.1622             0.6656           0.7119   \n",
       "1      1956.0            0.1238             0.1866           0.2416   \n",
       "2      1709.0            0.1444             0.4245           0.4504   \n",
       "3       567.7            0.2098             0.8663           0.6869   \n",
       "4      1575.0            0.1374             0.2050           0.4000   \n",
       "\n",
       "   concave points_worst  symmetry_worst  fractal_dimension_worst  \n",
       "0                0.2654          0.4601                  0.11890  \n",
       "1                0.1860          0.2750                  0.08902  \n",
       "2                0.2430          0.3613                  0.08758  \n",
       "3                0.2575          0.6638                  0.17300  \n",
       "4                0.1625          0.2364                  0.07678  \n",
       "\n",
       "[5 rows x 31 columns]"
      ]
     },
     "execution_count": 133,
     "metadata": {},
     "output_type": "execute_result"
    }
   ],
   "source": [
    "df.head()"
   ]
  },
  {
   "cell_type": "code",
   "execution_count": 134,
   "id": "bb1a2f5e-b575-4563-a52b-45cd1615063c",
   "metadata": {},
   "outputs": [],
   "source": [
    "y = df['diagnosis']\n",
    "x = df.drop('diagnosis', axis = 1)\n",
    "x_train, x_test, y_train, y_test = train_test_split(x, y, test_size = 0.2)\n",
    "\n",
    "cl = DecisionTreeClassifier()\n",
    "cl = cl.fit(x_train, y_train)\n",
    "y_pred = cl.predict(x_test)\n",
    "\n"
   ]
  },
  {
   "cell_type": "code",
   "execution_count": 135,
   "id": "1d892669-e513-4937-a61e-6ccec950550d",
   "metadata": {},
   "outputs": [
    {
     "name": "stdout",
     "output_type": "stream",
     "text": [
      "Accuracy:  0.9385964912280702\n"
     ]
    }
   ],
   "source": [
    "print(\"Accuracy: \", metrics.accuracy_score(y_test, y_pred))"
   ]
  },
  {
   "cell_type": "markdown",
   "id": "a2923e35-f473-450d-adaa-3024b4c94eaa",
   "metadata": {},
   "source": [
    "# We get a little better result with supervised learning."
   ]
  },
  {
   "cell_type": "code",
   "execution_count": 136,
   "id": "b34aa659-be64-4c27-b55d-f6d3c7ef9fae",
   "metadata": {},
   "outputs": [],
   "source": [
    "# References https://medium.com/nerd-for-tech/k-means-python-implementation-from-scratch-8400f30b8e5c"
   ]
  },
  {
   "cell_type": "markdown",
   "id": "30ef72ed-c070-4851-b575-3790557ecaa6",
   "metadata": {},
   "source": [
    "# Q2 Gradient Descent "
   ]
  },
  {
   "cell_type": "markdown",
   "id": "815c189c-6154-47ee-beb0-3d4939c8e733",
   "metadata": {},
   "source": [
    "# Function 1\n"
   ]
  },
  {
   "cell_type": "code",
   "execution_count": 137,
   "id": "eb4aac52-3640-4a00-aabb-c2690e37559a",
   "metadata": {},
   "outputs": [],
   "source": [
    "import numpy as np\n",
    "import matplotlib.pyplot as plt\n",
    "%matplotlib inline"
   ]
  },
  {
   "cell_type": "code",
   "execution_count": 138,
   "id": "421f1259-57d3-4d49-b6b0-c9cf00653ea4",
   "metadata": {},
   "outputs": [
    {
     "data": {
      "text/plain": [
       "<mpl_toolkits.mplot3d.art3d.Poly3DCollection at 0x7fcb88442250>"
      ]
     },
     "execution_count": 138,
     "metadata": {},
     "output_type": "execute_result"
    },
    {
     "data": {
      "image/png": "[encoded data removed]",
      "text/plain": [
       "<Figure size 1008x576 with 1 Axes>"
      ]
     },
     "metadata": {
      "needs_background": "light"
     },
     "output_type": "display_data"
    }
   ],
   "source": [
    "def func(x,y) :\n",
    "    return (x-2)**2 + (y-3)**2\n",
    "\n",
    "fig = plt.figure(figsize=(14,8))\n",
    "ax = fig.add_subplot(111, projection='3d')\n",
    "x = y = np.arange(-3.0, 3.0, 0.015)\n",
    "X, Y = np.meshgrid(x, y)\n",
    "zs = np.array([func(x,y) for x,y in zip(np.ravel(X), np.ravel(Y))])\n",
    "Z = zs.reshape(X.shape)\n",
    "ax.plot_surface(X, Y, Z)"
   ]
  },
  {
   "cell_type": "code",
   "execution_count": 139,
   "id": "2e4ac78c-5a0d-48a2-96ec-191d7f4ef337",
   "metadata": {},
   "outputs": [],
   "source": [
    "def derivative_one_x(x,y) :\n",
    "    return 2*(x-2)\n",
    "\n",
    "def derivative_two_x(x,y) :\n",
    "    return 2\n",
    "\n",
    "def derivative_one_y(x,y) :\n",
    "    return 2*(y-3)\n",
    "\n",
    "def derivative_two_y(x,y) :\n",
    "    return 2\n",
    "\n",
    "\n",
    "def gradient_descent(alpha=0.5) :\n",
    "    x = 0\n",
    "    y = 0\n",
    "    for i in range(10) :\n",
    "        x -= derivative_one_x(x,y)\n",
    "        y -= derivative_one_y(x,y)\n",
    "        function_value = func(x,y)\n",
    "        print(x,y,function_value)\n",
    "\n",
    "def newton_method() :\n",
    "    x = 0\n",
    "    y = 0\n",
    "    \n",
    "    for i in range(10) :\n",
    "        x -= derivative_one_x(x,y)/derivative_two_x(x,y)\n",
    "        y -= derivative_one_y(x,y)/derivative_two_y(x,y)\n",
    "        function_value = func(x,y)\n",
    "        print(x,y,function_value)"
   ]
  },
  {
   "cell_type": "code",
   "execution_count": 140,
   "id": "214801fe-3848-439d-9adc-53143e35a06e",
   "metadata": {},
   "outputs": [
    {
     "name": "stdout",
     "output_type": "stream",
     "text": [
      "4 6 13\n",
      "0 0 13\n",
      "4 6 13\n",
      "0 0 13\n",
      "4 6 13\n",
      "0 0 13\n",
      "4 6 13\n",
      "0 0 13\n",
      "4 6 13\n",
      "0 0 13\n"
     ]
    }
   ],
   "source": [
    "gradient_descent(alpha=0.5)"
   ]
  },
  {
   "cell_type": "code",
   "execution_count": 141,
   "id": "ec409349-b7d5-4400-bc58-5155dfe3bdcc",
   "metadata": {},
   "outputs": [
    {
     "name": "stdout",
     "output_type": "stream",
     "text": [
      "2.0 3.0 0.0\n",
      "2.0 3.0 0.0\n",
      "2.0 3.0 0.0\n",
      "2.0 3.0 0.0\n",
      "2.0 3.0 0.0\n",
      "2.0 3.0 0.0\n",
      "2.0 3.0 0.0\n",
      "2.0 3.0 0.0\n",
      "2.0 3.0 0.0\n",
      "2.0 3.0 0.0\n"
     ]
    }
   ],
   "source": [
    "newton_method()"
   ]
  },
  {
   "cell_type": "markdown",
   "id": "be5fe7e0-0ac9-44d8-b237-55234c2b84e4",
   "metadata": {},
   "source": [
    "#### Clearly, Newton Method converges to a lower value and that too at a much faster rate"
   ]
  },
  {
   "cell_type": "markdown",
   "id": "160e07eb-f8a6-4d93-958c-48a95ef0d501",
   "metadata": {},
   "source": [
    "# Function 2"
   ]
  },
  {
   "cell_type": "code",
   "execution_count": 142,
   "id": "be67d094-a505-46ae-bf6c-8416b39b2d29",
   "metadata": {},
   "outputs": [
    {
     "data": {
      "text/plain": [
       "<mpl_toolkits.mplot3d.art3d.Poly3DCollection at 0x7fcbac151490>"
      ]
     },
     "execution_count": 142,
     "metadata": {},
     "output_type": "execute_result"
    },
    {
     "data": {
      "image/png": "[encoded data removed]",
      "text/plain": [
       "<Figure size 576x576 with 1 Axes>"
      ]
     },
     "metadata": {
      "needs_background": "light"
     },
     "output_type": "display_data"
    }
   ],
   "source": [
    "def func2(x,y) :\n",
    "    return (4-y)**2 + 20*((x+3) - (y-3)**2)**2\n",
    "\n",
    "# plot the function to visualise\n",
    "\n",
    "fig = plt.figure(figsize=(8,8))\n",
    "ax = fig.add_subplot(111, projection='3d')\n",
    "x = y = np.arange(-3.0, 3.0, 0.015)\n",
    "X, Y = np.meshgrid(x, y)\n",
    "zs = np.array([func2(x,y) for x,y in zip(np.ravel(X), np.ravel(Y))])\n",
    "Z = zs.reshape(X.shape)\n",
    "ax.plot_surface(X, Y, Z)\n"
   ]
  },
  {
   "cell_type": "code",
   "execution_count": 143,
   "id": "04ea1f47-ff48-4ba9-8f7d-d635823e1bfd",
   "metadata": {},
   "outputs": [],
   "source": [
    "def dx(x,y) :\n",
    "    return 40*(x + 3 - (y-3)**2)\n",
    "\n",
    "def d2x(x,y) :\n",
    "    return 40\n",
    "\n",
    "def dy(x,y) :\n",
    "    return -2*(4-y) - 80*(x+3-(y-3)**2)*(y-3)\n",
    "\n",
    "def d2y(x,y) :\n",
    "    return 160*(y-3)**2 - 80*(x+3-(y-3)**2) + 2\n",
    "\n",
    "def GD(alpha=0.003) :\n",
    "    x = 0\n",
    "    y = 0\n",
    "    \n",
    "    for i in range(100) :\n",
    "        x -= alpha*dx(x,y)\n",
    "        y -= alpha*dy(x,y)\n",
    "        fv = func2(x,y)\n",
    "        print(x,y,fv)\n",
    "    \n",
    "def NGD() :\n",
    "    x = 0\n",
    "    y = 0\n",
    "    \n",
    "    for i in range(100) :\n",
    "        x -= dx(x,y)/d2x(x,y)\n",
    "        y -= dy(x,y)/d2y(x,y)\n",
    "        fv = func2(x,y)\n",
    "        print(x,y,fv)"
   ]
  },
  {
   "cell_type": "code",
   "execution_count": 144,
   "id": "f5ee7f0c-9dd7-4214-a725-57117aaa1722",
   "metadata": {},
   "outputs": [
    {
     "name": "stdout",
     "output_type": "stream",
     "text": [
      "12.0 -71.60000000000001 616091235.8720005\n",
      "11112.320000000005 -1656231.7840000014 1.5049344978449363e+26\n",
      "5486227308344.743 -1.8172960965214798e+19 2.1813872511606115e+78\n",
      "6.605130204864416e+38 -2.400695467663245e+58 6.643214659790729e+234\n"
     ]
    },
    {
     "ename": "OverflowError",
     "evalue": "(34, 'Result too large')",
     "output_type": "error",
     "traceback": [
      "\u001b[0;31m---------------------------------------------------------------------------\u001b[0m",
      "\u001b[0;31mOverflowError\u001b[0m                             Traceback (most recent call last)",
      "\u001b[0;32m<ipython-input-144-3584487bb42d>\u001b[0m in \u001b[0;36m<module>\u001b[0;34m\u001b[0m\n\u001b[0;32m----> 1\u001b[0;31m \u001b[0mGD\u001b[0m\u001b[0;34m(\u001b[0m\u001b[0malpha\u001b[0m\u001b[0;34m=\u001b[0m\u001b[0;36m0.05\u001b[0m\u001b[0;34m)\u001b[0m\u001b[0;34m\u001b[0m\u001b[0;34m\u001b[0m\u001b[0m\n\u001b[0m",
      "\u001b[0;32m<ipython-input-143-15ac69b98bc1>\u001b[0m in \u001b[0;36mGD\u001b[0;34m(alpha)\u001b[0m\n\u001b[1;32m     18\u001b[0m         \u001b[0mx\u001b[0m \u001b[0;34m-=\u001b[0m \u001b[0malpha\u001b[0m\u001b[0;34m*\u001b[0m\u001b[0mdx\u001b[0m\u001b[0;34m(\u001b[0m\u001b[0mx\u001b[0m\u001b[0;34m,\u001b[0m\u001b[0my\u001b[0m\u001b[0;34m)\u001b[0m\u001b[0;34m\u001b[0m\u001b[0;34m\u001b[0m\u001b[0m\n\u001b[1;32m     19\u001b[0m         \u001b[0my\u001b[0m \u001b[0;34m-=\u001b[0m \u001b[0malpha\u001b[0m\u001b[0;34m*\u001b[0m\u001b[0mdy\u001b[0m\u001b[0;34m(\u001b[0m\u001b[0mx\u001b[0m\u001b[0;34m,\u001b[0m\u001b[0my\u001b[0m\u001b[0;34m)\u001b[0m\u001b[0;34m\u001b[0m\u001b[0;34m\u001b[0m\u001b[0m\n\u001b[0;32m---> 20\u001b[0;31m         \u001b[0mfv\u001b[0m \u001b[0;34m=\u001b[0m \u001b[0mfunc2\u001b[0m\u001b[0;34m(\u001b[0m\u001b[0mx\u001b[0m\u001b[0;34m,\u001b[0m\u001b[0my\u001b[0m\u001b[0;34m)\u001b[0m\u001b[0;34m\u001b[0m\u001b[0;34m\u001b[0m\u001b[0m\n\u001b[0m\u001b[1;32m     21\u001b[0m         \u001b[0mprint\u001b[0m\u001b[0;34m(\u001b[0m\u001b[0mx\u001b[0m\u001b[0;34m,\u001b[0m\u001b[0my\u001b[0m\u001b[0;34m,\u001b[0m\u001b[0mfv\u001b[0m\u001b[0;34m)\u001b[0m\u001b[0;34m\u001b[0m\u001b[0;34m\u001b[0m\u001b[0m\n\u001b[1;32m     22\u001b[0m \u001b[0;34m\u001b[0m\u001b[0m\n",
      "\u001b[0;32m<ipython-input-142-e79ea63fa674>\u001b[0m in \u001b[0;36mfunc2\u001b[0;34m(x, y)\u001b[0m\n\u001b[1;32m      1\u001b[0m \u001b[0;32mdef\u001b[0m \u001b[0mfunc2\u001b[0m\u001b[0;34m(\u001b[0m\u001b[0mx\u001b[0m\u001b[0;34m,\u001b[0m\u001b[0my\u001b[0m\u001b[0;34m)\u001b[0m \u001b[0;34m:\u001b[0m\u001b[0;34m\u001b[0m\u001b[0;34m\u001b[0m\u001b[0m\n\u001b[0;32m----> 2\u001b[0;31m     \u001b[0;32mreturn\u001b[0m \u001b[0;34m(\u001b[0m\u001b[0;36m4\u001b[0m\u001b[0;34m-\u001b[0m\u001b[0my\u001b[0m\u001b[0;34m)\u001b[0m\u001b[0;34m**\u001b[0m\u001b[0;36m2\u001b[0m \u001b[0;34m+\u001b[0m \u001b[0;36m20\u001b[0m\u001b[0;34m*\u001b[0m\u001b[0;34m(\u001b[0m\u001b[0;34m(\u001b[0m\u001b[0mx\u001b[0m\u001b[0;34m+\u001b[0m\u001b[0;36m3\u001b[0m\u001b[0;34m)\u001b[0m \u001b[0;34m-\u001b[0m \u001b[0;34m(\u001b[0m\u001b[0my\u001b[0m\u001b[0;34m-\u001b[0m\u001b[0;36m3\u001b[0m\u001b[0;34m)\u001b[0m\u001b[0;34m**\u001b[0m\u001b[0;36m2\u001b[0m\u001b[0;34m)\u001b[0m\u001b[0;34m**\u001b[0m\u001b[0;36m2\u001b[0m\u001b[0;34m\u001b[0m\u001b[0;34m\u001b[0m\u001b[0m\n\u001b[0m\u001b[1;32m      3\u001b[0m \u001b[0;34m\u001b[0m\u001b[0m\n\u001b[1;32m      4\u001b[0m \u001b[0;31m# plot the function to visualise\u001b[0m\u001b[0;34m\u001b[0m\u001b[0;34m\u001b[0m\u001b[0;34m\u001b[0m\u001b[0m\n\u001b[1;32m      5\u001b[0m \u001b[0;34m\u001b[0m\u001b[0m\n",
      "\u001b[0;31mOverflowError\u001b[0m: (34, 'Result too large')"
     ]
    }
   ],
   "source": [
    "GD(alpha=0.05)"
   ]
  },
  {
   "cell_type": "code",
   "execution_count": 145,
   "id": "5a2e2d30-effa-4564-98ab-a06546038c74",
   "metadata": {},
   "outputs": [
    {
     "name": "stdout",
     "output_type": "stream",
     "text": [
      "6.0 0.005547850208044383 15.97776763684351\n",
      "5.966743677393664 0.011108524766649572 15.933394957843863\n",
      "5.933472250722595 0.01668211051484921 15.888981391445002\n",
      "5.9001856297221345 0.022268695264626444 15.844526672230586\n",
      "5.866883723201031 0.027868367816143054 15.800030531889085\n",
      "5.8335664390278765 0.03348121797327511 15.755492699169313\n",
      "5.800233684117323 0.03910733655946271 15.710912899835108\n",
      "5.766885364416 0.044746815433881634 15.666290856619073\n",
      "5.733521384888183 0.050399747507944764 15.621626289175412\n",
      "5.7001416495011945 0.0560662267621417 15.57691891403185\n",
      "5.6667460612104925 0.06174634826322488 15.532168444540511\n",
      "5.633334521944494 0.06744020818175106 15.487374590827857\n",
      "5.599906932589093 0.07314790380998705 15.442537059743586\n",
      "5.566463192971874 0.07886953358018906 15.397655554808486\n",
      "5.533003201846023 0.0846051970832651 15.352729776161219\n",
      "5.499526856873908 0.09035499508783032 15.30775942050401\n",
      "5.46603405461034 0.09611902955966546 15.262744181047191\n",
      "5.432524690485497 0.1018974036815887 15.21768374745262\n",
      "5.398998658787516 0.10769022187375184 15.172577805775886\n",
      "5.365455852644708 0.11349758981437177 15.127426038407302\n",
      "5.331896164007441 0.1193196144609088 15.08222812401168\n",
      "5.298319483629648 0.12515640407170336 15.036983737466786\n",
      "5.26472570104994 0.13100806822808367 14.991692549800515\n",
      "5.231114704572352 0.13687471785695637 14.946354228126687\n",
      "5.197486381246684 0.14275646525389363 14.9009684355795\n",
      "5.163840616848425 0.14865342410672955 14.855534831246532\n",
      "5.130177295858278 0.15456570951968002 14.81005307010029\n",
      "5.096496301441242 0.16049343803799992 14.76452280292828\n",
      "5.062797515425258 0.1664367276731927 14.718943676261523\n",
      "5.029080818279404 0.17239569792878706 14.673315332301502\n",
      "4.9953460890916315 0.1783704698266967 14.627637408845501\n",
      "4.9615932055460155 0.1843611659341791 14.58190953921023\n",
      "4.927822043899535 0.1903679103914101 14.536131352153827\n",
      "4.894032478958332 0.19639082893969148 14.49030247179601\n",
      "4.86022438405347 0.20243004895030922 14.44442251753648\n",
      "4.826397631016169 0.20848569945406092 14.398491103971471\n",
      "4.792552090152483 0.21455791117147155 14.352507840808343\n",
      "4.758687630217435 0.2206468165437168 14.30647233277827\n",
      "4.724804118388575 0.22675254976427456 14.260384179546891\n",
      "4.690901420238953 0.2328752468113257 14.214242975622868\n",
      "4.656979399709482 0.2390150454809254 14.16804831026433\n",
      "4.623037919080696 0.24517208542096783 14.121799767383136\n",
      "4.58907683894386 0.25134650816596754 14.075496925446858\n",
      "4.555096018171421 0.25753845717268103 14.029139357378442\n",
      "4.5210953138868 0.26374807785659404 13.982726630453499\n",
      "4.487074581433483 0.2699755176292999 13.93625830619511\n",
      "4.453033674343409 0.27622092593679565 13.889733940266138\n",
      "4.4189724443046074 0.2824844542987239 13.843153082358883\n",
      "4.384890741128105 0.2887662563485882 13.796515276082074\n",
      "4.350788412714048 0.2950664878749727 13.74982005884513\n",
      "4.316665305017035 0.3013853068637955 13.70306696173951\n",
      "4.2825212620106115 0.30772287354162864 13.65625550941718\n",
      "4.248356125650947 0.31407935042011687 13.609385219966025\n",
      "4.214169735839621 0.32045490234152973 13.562455604782166\n",
      "4.179961930385541 0.32684969652548246 13.515466168439058\n",
      "4.145732544965906 0.333263902616862 13.46841640855328\n",
      "4.11148141308625 0.33969769273499667 13.42130581564688\n",
      "4.077208366039501 0.3461512415241088 13.374133873006278\n",
      "4.042913232864028 0.3526247262050916 13.32690005653744\n",
      "4.008595840300666 0.3591183266286523 13.279603834617388\n",
      "3.9742560127486506 0.36563222532986617 13.232244667941792\n",
      "3.9398935722204733 0.37216660758418774 13.184822009368592\n",
      "3.905508338295596 0.37872166146496555 13.13733530375752\n",
      "3.8711001280729906 0.3852975779025114 13.089783987805347\n",
      "3.8366687561224744 0.39189455074477475 13.042167489876752\n",
      "3.8022140344348 0.3985127768196758 12.99448522983065\n",
      "3.7677357723704734 0.4051524559991529 12.946736618841861\n",
      "3.7332337766072285 0.41181379126498235 12.898921059217928\n",
      "3.6987078510861444 0.41849698877643016 12.85103794421092\n",
      "3.664157796956358 0.42520225793979854 12.80308665782411\n",
      "3.629583412518312 0.4319298114799325 12.755066574613286\n",
      "3.5949844931654953 0.4386798655137534 12.706977059482531\n",
      "3.560360831324643 0.4454526396258909 12.65881746747433\n",
      "3.5257122163943286 0.4522483569464858 12.610587143553758\n",
      "3.491038434681882 0.45906724423124096 12.562285422386518\n",
      "3.4563392693386197 0.46590953194379914 12.51391162811072\n",
      "3.4216145002932947 0.47277545434053125 12.46546507410208\n",
      "3.3868639041837074 0.4796652495578213 12.41694506273234\n",
      "3.352087254286439 0.48657915970193805 12.368350885120707\n",
      "3.3172843204446147 0.4935174309415876 12.319681820877973\n",
      "3.2824548689936597 0.5004803136032447 12.270937137843173\n",
      "3.2475986626849336 0.5074680622693652 12.222116091812376\n",
      "3.2127154606072343 0.5144809358795863 12.17321792625946\n",
      "3.1778050181060182 0.5215191978350263 12.124241872048447\n",
      "3.142867086700332 0.5285831161058001 12.075187147137203\n",
      "3.1079014139973182 0.5356729633418716 12.026052956272087\n",
      "3.072907743604233 0.5427890169873713 11.97683849067327\n",
      "3.037885815037888 0.5499315593985096 11.927542927710345\n",
      "3.0028353636314185 0.5571008779652277 11.8781654305679\n",
      "2.9677561204382608 0.5642972652367282 11.828705147900576\n",
      "2.93264781213328 0.5715210190510392 11.779161213477332\n",
      "2.8975101609109037 0.5787724426687707 11.729532745814419\n",
      "2.8623428843801504 0.5860518449112279 11.679818847796593\n",
      "2.827145695456486 0.5933595403030583 11.630018606286244\n",
      "2.7919183022503073 0.6006958492196128 11.580131091719787\n",
      "2.756660407951995 0.6080610980392134 11.530155357690928\n",
      "2.721371710713374 0.6154556193005262 11.480090440520245\n",
      "2.6860519035254367 0.622879751865252 11.429935358810521\n",
      "2.6507006740922057 0.6303338410863534 11.379689112987256\n",
      "2.6153177047005567 0.6378182389820493 11.32935068482376\n"
     ]
    }
   ],
   "source": [
    "NGD()"
   ]
  },
  {
   "cell_type": "markdown",
   "id": "85aa9bc5-d81f-4b93-a6c1-a92ba8abb77b",
   "metadata": {},
   "source": [
    "#### Normal gradient descent has an overflow error, whereas Newton's method again performs better and minimises the function"
   ]
  },
  {
   "cell_type": "markdown",
   "id": "6bc77418-cb85-4132-832f-9ea6c11247e3",
   "metadata": {},
   "source": [
    "# Q3 Naive Bayes Classifier"
   ]
  },
  {
   "cell_type": "code",
   "execution_count": 146,
   "id": "ab093166-76fb-4eae-9240-24b1d11bca4a",
   "metadata": {},
   "outputs": [],
   "source": [
    "boys_df=pd.read_csv('girl_names-2.csv')\n",
    "girls_df=pd.read_csv('boy_names.csv')\n",
    "test_df=pd.read_csv('test_names.csv')"
   ]
  },
  {
   "cell_type": "code",
   "execution_count": 147,
   "id": "ca8286e6-2051-46bb-ad3f-557cd7f5928a",
   "metadata": {},
   "outputs": [
    {
     "data": {
      "text/html": [
       "<div>\n",
       "<style scoped>\n",
       "    .dataframe tbody tr th:only-of-type {\n",
       "        vertical-align: middle;\n",
       "    }\n",
       "\n",
       "    .dataframe tbody tr th {\n",
       "        vertical-align: top;\n",
       "    }\n",
       "\n",
       "    .dataframe thead th {\n",
       "        text-align: right;\n",
       "    }\n",
       "</style>\n",
       "<table border=\"1\" class=\"dataframe\">\n",
       "  <thead>\n",
       "    <tr style=\"text-align: right;\">\n",
       "      <th></th>\n",
       "      <th>Unnamed: 0</th>\n",
       "      <th>x</th>\n",
       "    </tr>\n",
       "  </thead>\n",
       "  <tbody>\n",
       "    <tr>\n",
       "      <th>0</th>\n",
       "      <td>1</td>\n",
       "      <td>Elaina</td>\n",
       "    </tr>\n",
       "    <tr>\n",
       "      <th>1</th>\n",
       "      <td>2</td>\n",
       "      <td>Deedee</td>\n",
       "    </tr>\n",
       "    <tr>\n",
       "      <th>2</th>\n",
       "      <td>3</td>\n",
       "      <td>Aaliyah</td>\n",
       "    </tr>\n",
       "    <tr>\n",
       "      <th>3</th>\n",
       "      <td>4</td>\n",
       "      <td>Kathey</td>\n",
       "    </tr>\n",
       "    <tr>\n",
       "      <th>4</th>\n",
       "      <td>5</td>\n",
       "      <td>Antonetta</td>\n",
       "    </tr>\n",
       "  </tbody>\n",
       "</table>\n",
       "</div>"
      ],
      "text/plain": [
       "   Unnamed: 0          x\n",
       "0           1     Elaina\n",
       "1           2     Deedee\n",
       "2           3    Aaliyah\n",
       "3           4     Kathey\n",
       "4           5  Antonetta"
      ]
     },
     "execution_count": 147,
     "metadata": {},
     "output_type": "execute_result"
    }
   ],
   "source": [
    "boys_df.head()"
   ]
  },
  {
   "cell_type": "code",
   "execution_count": 148,
   "id": "61ec9098-5173-4ddb-bf23-8f154a6dd6e1",
   "metadata": {},
   "outputs": [
    {
     "data": {
      "text/html": [
       "<div>\n",
       "<style scoped>\n",
       "    .dataframe tbody tr th:only-of-type {\n",
       "        vertical-align: middle;\n",
       "    }\n",
       "\n",
       "    .dataframe tbody tr th {\n",
       "        vertical-align: top;\n",
       "    }\n",
       "\n",
       "    .dataframe thead th {\n",
       "        text-align: right;\n",
       "    }\n",
       "</style>\n",
       "<table border=\"1\" class=\"dataframe\">\n",
       "  <thead>\n",
       "    <tr style=\"text-align: right;\">\n",
       "      <th></th>\n",
       "      <th>Unnamed: 0</th>\n",
       "      <th>x</th>\n",
       "    </tr>\n",
       "  </thead>\n",
       "  <tbody>\n",
       "    <tr>\n",
       "      <th>0</th>\n",
       "      <td>1</td>\n",
       "      <td>Otho</td>\n",
       "    </tr>\n",
       "    <tr>\n",
       "      <th>1</th>\n",
       "      <td>2</td>\n",
       "      <td>Caswell</td>\n",
       "    </tr>\n",
       "    <tr>\n",
       "      <th>2</th>\n",
       "      <td>3</td>\n",
       "      <td>Deforest</td>\n",
       "    </tr>\n",
       "    <tr>\n",
       "      <th>3</th>\n",
       "      <td>4</td>\n",
       "      <td>Eddy</td>\n",
       "    </tr>\n",
       "    <tr>\n",
       "      <th>4</th>\n",
       "      <td>5</td>\n",
       "      <td>Corbett</td>\n",
       "    </tr>\n",
       "  </tbody>\n",
       "</table>\n",
       "</div>"
      ],
      "text/plain": [
       "   Unnamed: 0         x\n",
       "0           1      Otho\n",
       "1           2   Caswell\n",
       "2           3  Deforest\n",
       "3           4      Eddy\n",
       "4           5   Corbett"
      ]
     },
     "execution_count": 148,
     "metadata": {},
     "output_type": "execute_result"
    }
   ],
   "source": [
    "girls_df.head()"
   ]
  },
  {
   "cell_type": "code",
   "execution_count": 149,
   "id": "a4bc6ba4-a7a0-4641-84cc-66e7bb056752",
   "metadata": {},
   "outputs": [],
   "source": [
    "def word_length(a):\n",
    "    return len(a['x'])"
   ]
  },
  {
   "cell_type": "code",
   "execution_count": 150,
   "id": "c8eddc84-1f6a-4fbe-a48a-7982a66e84f7",
   "metadata": {},
   "outputs": [],
   "source": [
    "def vowel_count(a):\n",
    "    c = len([i for i in a['x'] if i in 'aeiouAEIOU'])\n",
    "    return c"
   ]
  },
  {
   "cell_type": "code",
   "execution_count": 151,
   "id": "bf02a591-c05b-46eb-b328-de38aa7b4de0",
   "metadata": {},
   "outputs": [],
   "source": [
    "boys_df['Word length'] = boys_df.apply( lambda x: word_length(x),axis=1)\n",
    "girls_df['Word length'] = girls_df.apply( lambda x: word_length(x),axis=1)"
   ]
  },
  {
   "cell_type": "code",
   "execution_count": 152,
   "id": "222f462f-bfca-475b-8273-0991a05cd98d",
   "metadata": {},
   "outputs": [],
   "source": [
    "boys_df['Vowel count'] = boys_df.apply( lambda x: vowel_count(x),axis=1)\n",
    "girls_df['Vowel count'] = girls_df.apply( lambda x: vowel_count(x),axis=1)"
   ]
  },
  {
   "cell_type": "code",
   "execution_count": 153,
   "id": "1ae34a52-1de1-4c59-badb-ebf31f46d49b",
   "metadata": {},
   "outputs": [],
   "source": [
    "boys_df = boys_df.assign(Gender='+1')\n",
    "girls_df = girls_df.assign(Gender='-1')"
   ]
  },
  {
   "cell_type": "code",
   "execution_count": 154,
   "id": "983c92a3-71e6-43f6-a3b3-64020f477f3b",
   "metadata": {},
   "outputs": [],
   "source": [
    "df= pd.concat([boys_df,girls_df])"
   ]
  },
  {
   "cell_type": "code",
   "execution_count": 155,
   "id": "8c0556e5-c632-4c89-8671-9801530b3cbf",
   "metadata": {},
   "outputs": [
    {
     "data": {
      "text/html": [
       "<div>\n",
       "<style scoped>\n",
       "    .dataframe tbody tr th:only-of-type {\n",
       "        vertical-align: middle;\n",
       "    }\n",
       "\n",
       "    .dataframe tbody tr th {\n",
       "        vertical-align: top;\n",
       "    }\n",
       "\n",
       "    .dataframe thead th {\n",
       "        text-align: right;\n",
       "    }\n",
       "</style>\n",
       "<table border=\"1\" class=\"dataframe\">\n",
       "  <thead>\n",
       "    <tr style=\"text-align: right;\">\n",
       "      <th></th>\n",
       "      <th>Unnamed: 0</th>\n",
       "      <th>x</th>\n",
       "      <th>Word length</th>\n",
       "      <th>Vowel count</th>\n",
       "      <th>Gender</th>\n",
       "    </tr>\n",
       "  </thead>\n",
       "  <tbody>\n",
       "    <tr>\n",
       "      <th>0</th>\n",
       "      <td>1</td>\n",
       "      <td>Elaina</td>\n",
       "      <td>6</td>\n",
       "      <td>4</td>\n",
       "      <td>+1</td>\n",
       "    </tr>\n",
       "    <tr>\n",
       "      <th>1</th>\n",
       "      <td>2</td>\n",
       "      <td>Deedee</td>\n",
       "      <td>6</td>\n",
       "      <td>4</td>\n",
       "      <td>+1</td>\n",
       "    </tr>\n",
       "    <tr>\n",
       "      <th>2</th>\n",
       "      <td>3</td>\n",
       "      <td>Aaliyah</td>\n",
       "      <td>7</td>\n",
       "      <td>4</td>\n",
       "      <td>+1</td>\n",
       "    </tr>\n",
       "    <tr>\n",
       "      <th>3</th>\n",
       "      <td>4</td>\n",
       "      <td>Kathey</td>\n",
       "      <td>6</td>\n",
       "      <td>2</td>\n",
       "      <td>+1</td>\n",
       "    </tr>\n",
       "    <tr>\n",
       "      <th>4</th>\n",
       "      <td>5</td>\n",
       "      <td>Antonetta</td>\n",
       "      <td>9</td>\n",
       "      <td>4</td>\n",
       "      <td>+1</td>\n",
       "    </tr>\n",
       "  </tbody>\n",
       "</table>\n",
       "</div>"
      ],
      "text/plain": [
       "   Unnamed: 0          x  Word length  Vowel count Gender\n",
       "0           1     Elaina            6            4     +1\n",
       "1           2     Deedee            6            4     +1\n",
       "2           3    Aaliyah            7            4     +1\n",
       "3           4     Kathey            6            2     +1\n",
       "4           5  Antonetta            9            4     +1"
      ]
     },
     "execution_count": 155,
     "metadata": {},
     "output_type": "execute_result"
    }
   ],
   "source": [
    "df.head()"
   ]
  },
  {
   "cell_type": "code",
   "execution_count": 156,
   "id": "5fa92ad6-4492-47c7-b70f-fd80170cd2f4",
   "metadata": {},
   "outputs": [],
   "source": [
    "test_df['Word length'] = test_df.apply( lambda row: word_length(row),axis=1)\n",
    "test_df['Vowel Count'] = test_df.apply( lambda row: vowel_count(row),axis=1)"
   ]
  },
  {
   "cell_type": "code",
   "execution_count": 157,
   "id": "76918469-d850-41db-9fb3-60d1801eebc5",
   "metadata": {},
   "outputs": [],
   "source": [
    "train = test_df.iloc[:,[2,3]]"
   ]
  },
  {
   "cell_type": "code",
   "execution_count": 158,
   "id": "36e425ac-5be6-4256-a95d-42eb19afa890",
   "metadata": {},
   "outputs": [],
   "source": [
    "X,y = df.iloc[:,[2,3]],df.iloc[:,[4]]"
   ]
  },
  {
   "cell_type": "code",
   "execution_count": 159,
   "id": "b845f266-d13c-4e1f-b515-aa0829a387da",
   "metadata": {},
   "outputs": [],
   "source": [
    "from sklearn.naive_bayes import MultinomialNB"
   ]
  },
  {
   "cell_type": "code",
   "execution_count": 160,
   "id": "6e39cd87-41d0-4d01-a779-645548fba93e",
   "metadata": {},
   "outputs": [
    {
     "name": "stderr",
     "output_type": "stream",
     "text": [
      "/opt/anaconda3/lib/python3.8/site-packages/sklearn/utils/validation.py:63: DataConversionWarning: A column-vector y was passed when a 1d array was expected. Please change the shape of y to (n_samples, ), for example using ravel().\n",
      "  return f(*args, **kwargs)\n"
     ]
    }
   ],
   "source": [
    "NB = MultinomialNB()\n",
    "y_pred = NB.fit(X,y)"
   ]
  },
  {
   "cell_type": "code",
   "execution_count": 161,
   "id": "fbb2bbb3-1e4e-4d7c-bb2a-330b4dfcf5b3",
   "metadata": {},
   "outputs": [],
   "source": [
    "Predictions = y_pred.predict(train)"
   ]
  },
  {
   "cell_type": "code",
   "execution_count": 162,
   "id": "3d902be6-bef4-4402-92d0-ad620477d2cd",
   "metadata": {},
   "outputs": [
    {
     "data": {
      "text/html": [
       "<div>\n",
       "<style scoped>\n",
       "    .dataframe tbody tr th:only-of-type {\n",
       "        vertical-align: middle;\n",
       "    }\n",
       "\n",
       "    .dataframe tbody tr th {\n",
       "        vertical-align: top;\n",
       "    }\n",
       "\n",
       "    .dataframe thead th {\n",
       "        text-align: right;\n",
       "    }\n",
       "</style>\n",
       "<table border=\"1\" class=\"dataframe\">\n",
       "  <thead>\n",
       "    <tr style=\"text-align: right;\">\n",
       "      <th></th>\n",
       "      <th>Unnamed: 0</th>\n",
       "      <th>x</th>\n",
       "      <th>Word length</th>\n",
       "      <th>Vowel Count</th>\n",
       "      <th>Predictions</th>\n",
       "    </tr>\n",
       "  </thead>\n",
       "  <tbody>\n",
       "    <tr>\n",
       "      <th>0</th>\n",
       "      <td>1</td>\n",
       "      <td>Brittani</td>\n",
       "      <td>8</td>\n",
       "      <td>3</td>\n",
       "      <td>-1</td>\n",
       "    </tr>\n",
       "    <tr>\n",
       "      <th>1</th>\n",
       "      <td>2</td>\n",
       "      <td>Brandin</td>\n",
       "      <td>7</td>\n",
       "      <td>2</td>\n",
       "      <td>-1</td>\n",
       "    </tr>\n",
       "    <tr>\n",
       "      <th>2</th>\n",
       "      <td>3</td>\n",
       "      <td>Darry</td>\n",
       "      <td>5</td>\n",
       "      <td>1</td>\n",
       "      <td>-1</td>\n",
       "    </tr>\n",
       "    <tr>\n",
       "      <th>3</th>\n",
       "      <td>4</td>\n",
       "      <td>Tresa</td>\n",
       "      <td>5</td>\n",
       "      <td>2</td>\n",
       "      <td>-1</td>\n",
       "    </tr>\n",
       "    <tr>\n",
       "      <th>4</th>\n",
       "      <td>5</td>\n",
       "      <td>Fabiola</td>\n",
       "      <td>7</td>\n",
       "      <td>4</td>\n",
       "      <td>+1</td>\n",
       "    </tr>\n",
       "    <tr>\n",
       "      <th>...</th>\n",
       "      <td>...</td>\n",
       "      <td>...</td>\n",
       "      <td>...</td>\n",
       "      <td>...</td>\n",
       "      <td>...</td>\n",
       "    </tr>\n",
       "    <tr>\n",
       "      <th>95</th>\n",
       "      <td>96</td>\n",
       "      <td>Migdalia</td>\n",
       "      <td>8</td>\n",
       "      <td>4</td>\n",
       "      <td>+1</td>\n",
       "    </tr>\n",
       "    <tr>\n",
       "      <th>96</th>\n",
       "      <td>97</td>\n",
       "      <td>Abril</td>\n",
       "      <td>5</td>\n",
       "      <td>2</td>\n",
       "      <td>-1</td>\n",
       "    </tr>\n",
       "    <tr>\n",
       "      <th>97</th>\n",
       "      <td>98</td>\n",
       "      <td>Aliyah</td>\n",
       "      <td>6</td>\n",
       "      <td>3</td>\n",
       "      <td>+1</td>\n",
       "    </tr>\n",
       "    <tr>\n",
       "      <th>98</th>\n",
       "      <td>99</td>\n",
       "      <td>Tianna</td>\n",
       "      <td>6</td>\n",
       "      <td>3</td>\n",
       "      <td>+1</td>\n",
       "    </tr>\n",
       "    <tr>\n",
       "      <th>99</th>\n",
       "      <td>100</td>\n",
       "      <td>Colie</td>\n",
       "      <td>5</td>\n",
       "      <td>3</td>\n",
       "      <td>+1</td>\n",
       "    </tr>\n",
       "  </tbody>\n",
       "</table>\n",
       "<p>100 rows × 5 columns</p>\n",
       "</div>"
      ],
      "text/plain": [
       "    Unnamed: 0         x  Word length  Vowel Count Predictions\n",
       "0            1  Brittani            8            3          -1\n",
       "1            2   Brandin            7            2          -1\n",
       "2            3     Darry            5            1          -1\n",
       "3            4     Tresa            5            2          -1\n",
       "4            5   Fabiola            7            4          +1\n",
       "..         ...       ...          ...          ...         ...\n",
       "95          96  Migdalia            8            4          +1\n",
       "96          97     Abril            5            2          -1\n",
       "97          98    Aliyah            6            3          +1\n",
       "98          99    Tianna            6            3          +1\n",
       "99         100     Colie            5            3          +1\n",
       "\n",
       "[100 rows x 5 columns]"
      ]
     },
     "execution_count": 162,
     "metadata": {},
     "output_type": "execute_result"
    }
   ],
   "source": [
    "final=test_df.assign(Predictions=Predictions)"
   ]
  },
  {
   "cell_type": "code",
   "execution_count": 164,
   "id": "0280d13d-2c25-432a-ae3a-d97a83812b84",
   "metadata": {},
   "outputs": [],
   "source": [
    "final=test_df.assign(Predictions=Predictions)"
   ]
  },
  {
   "cell_type": "code",
   "execution_count": 166,
   "id": "01ac2c15-fd34-46d8-a523-a1b3cb48f958",
   "metadata": {},
   "outputs": [],
   "source": [
    "final.to_csv('result.csv')"
   ]
  },
  {
   "cell_type": "markdown",
   "id": "b878d122-0d84-409a-98f2-570f5327e933",
   "metadata": {},
   "source": [
    "# Q4 Naive Bayes"
   ]
  },
  {
   "cell_type": "markdown",
   "id": "3298ae1a-a2bd-4e89-8af2-4fc29f11f101",
   "metadata": {},
   "source": [
    "# a)\n",
    "$ P(X=x|Y=y) =∏αP(x_α|y) $ is the given equation.\n",
    "\n",
    "\n",
    "$ P(X=x|Y=y) <∏αP(x_α|y) $  underfits the model.\n",
    "\n",
    "$ P(X=x|Y=y) >∏αP(x_α|y) $ overfits the model.\n",
    "\n",
    "One such example of that could be suppose we reconsider the situation in which we need to predict whether a student will go out to play or not given few parameters. Suppose we have parameters like temperature, rainy, cloudy, assignments_pending, etc. Now if we consider all the parameters we can see that rainy and cloudy are quite dependent upon each other hence this will create an overfitting in the model whereas if we only consider rainy and assignment_pending, that is not considering temperature then it will be a case of underfit as we will be considering that the temperature is bit dependent on rainy which is not quite true every time.\n",
    "\n",
    "# b)\n",
    "We can represent P(x|y=c) \n",
    "\n",
    "\n",
    "$ p(x_{1:D}|y = c) = p(x1|y = c)p(x2|x1, y = c)...p(x_D|x1:D−1, y = c) $\n",
    "\n",
    "A good representation for the class conditional is a set of C tables which are indexed by the binary feature vector x and hold the values for p(x|y = c). Thus, to get a value like = $p(x|c = 2)$, we would go to table 2, convert the binary feture vector to an array index and lookup the result. The conversion between the array and the binary vector is given by $array_{idx}(x) = \\sum x_i 2^i.$\n",
    "\n",
    "Number of features is equal to: $(2^D − 1)C = O(C2^D)$\n",
    "\n",
    "\n",
    "# c) \n",
    "For N very small, the naive Bayes model would outperform the full model and give low test errors. This would happen because the full model has too many parameters and would overfit on a small dataset.\n",
    "\n",
    "\n"
   ]
  },
  {
   "cell_type": "code",
   "execution_count": 163,
   "id": "cf0f2259-01dc-48e4-b8eb-705db88f391c",
   "metadata": {},
   "outputs": [],
   "source": [
    "# Collaborated with Amatya SonBhadra,Manu Singhal"
   ]
  }
 ],
 "metadata": {
  "kernelspec": {
   "display_name": "Python 3",
   "language": "python",
   "name": "python3"
  },
  "language_info": {
   "codemirror_mode": {
    "name": "ipython",
    "version": 3
   },
   "file_extension": ".py",
   "mimetype": "text/x-python",
   "name": "python",
   "nbconvert_exporter": "python",
   "pygments_lexer": "ipython3",
   "version": "3.8.8"
  }
 },
 "nbformat": 4,
 "nbformat_minor": 5
}
