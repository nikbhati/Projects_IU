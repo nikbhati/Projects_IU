{
 "cells": [
  {
   "cell_type": "code",
   "execution_count": 1,
   "id": "a0e3976f-20fc-4067-9c49-2381d7306a5a",
   "metadata": {},
   "outputs": [],
   "source": [
    "import pandas as pd\n",
    "import numpy as np\n",
    "import matplotlib.pyplot as plt"
   ]
  },
  {
   "cell_type": "code",
   "execution_count": 2,
   "id": "c4b19529-74b7-4d15-8aef-797d2283e252",
   "metadata": {},
   "outputs": [],
   "source": [
    "import random"
   ]
  },
  {
   "cell_type": "code",
   "execution_count": 3,
   "id": "15c077f6-82c5-4b12-a73f-dbd1af282d2b",
   "metadata": {},
   "outputs": [],
   "source": [
    "np.random.seed(0)"
   ]
  },
  {
   "cell_type": "code",
   "execution_count": 20,
   "id": "fba361d4-2df3-4cc2-a08c-e2adb922cf7b",
   "metadata": {},
   "outputs": [],
   "source": [
    "#function classifing points into classes"
   ]
  },
  {
   "cell_type": "code",
   "execution_count": 4,
   "id": "e571262b-b0de-424f-be59-4c8f13c31e60",
   "metadata": {},
   "outputs": [],
   "source": [
    "def preds(a,pt):\n",
    "    if np.concatenate((pt,[1]))@a>0:\n",
    "        return 1\n",
    "    elif np.concatenate((pt,[1]))@a<0:\n",
    "        return -1"
   ]
  },
  {
   "cell_type": "code",
   "execution_count": 21,
   "id": "c297f70d-f475-4444-b219-2e1c4bf504eb",
   "metadata": {},
   "outputs": [],
   "source": [
    "# intialising k0 and k1 points "
   ]
  },
  {
   "cell_type": "code",
   "execution_count": 5,
   "id": "25a72d51-d149-4f2b-9319-fce7bafdc0c8",
   "metadata": {},
   "outputs": [],
   "source": [
    "cons=np.random.randint(0,100,3)\n",
    "k0=30\n",
    "k1=35"
   ]
  },
  {
   "cell_type": "code",
   "execution_count": 6,
   "id": "c084233a-e47f-49f8-aead-70ff6ca0fa05",
   "metadata": {},
   "outputs": [],
   "source": [
    "pos=[]\n",
    "neg=[]\n",
    "c=0"
   ]
  },
  {
   "cell_type": "code",
   "execution_count": 22,
   "id": "89dcd741-6314-4dd2-b59b-982297a07d70",
   "metadata": {},
   "outputs": [],
   "source": [
    "# generating data"
   ]
  },
  {
   "cell_type": "code",
   "execution_count": 9,
   "id": "0f43303d-eff6-4a02-aca4-239ca0ce00ed",
   "metadata": {},
   "outputs": [],
   "source": [
    "while c<=k0:\n",
    "    pt=np.random.randint(-100,100,2)\n",
    "    if preds(cons,pt)==-1:\n",
    "        neg.append((pt,-1))\n",
    "        c+=1\n",
    "    else:\n",
    "        pt=np.random.randint(-100,100,2)\n",
    "while c<=k0+k1:\n",
    "    pt=np.random.randint(-100,100,2)\n",
    "    if preds(cons,pt)==1:\n",
    "        pos.append((pt,1))\n",
    "        c+=1\n",
    "    else:\n",
    "        pt=np.random.randint(-100,100,2)\n",
    "data=pos+neg"
   ]
  },
  {
   "cell_type": "code",
   "execution_count": 10,
   "id": "7ed42668-edfb-426d-ba64-26ddd56f30d1",
   "metadata": {},
   "outputs": [
    {
     "data": {
      "text/plain": [
       "[(array([89, 97]), 1),\n",
       " (array([38, 82]), 1),\n",
       " (array([65, 25]), 1),\n",
       " (array([56, 11]), 1),\n",
       " (array([-49,  74]), 1),\n",
       " (array([48, 81]), 1),\n",
       " (array([ 37, -27]), 1),\n",
       " (array([78,  8]), 1),\n",
       " (array([-73,  73]), 1),\n",
       " (array([99, 67]), 1),\n",
       " (array([-66,  62]), 1),\n",
       " (array([ 81, -20]), 1),\n",
       " (array([90, 36]), 1),\n",
       " (array([89, 29]), 1),\n",
       " (array([68, 16]), 1),\n",
       " (array([-64,  76]), 1),\n",
       " (array([-15,  67]), 1),\n",
       " (array([98, 99]), 1),\n",
       " (array([ 77, -59]), 1),\n",
       " (array([-7, 74]), 1),\n",
       " (array([ 49, -11]), 1),\n",
       " (array([64, -6]), 1),\n",
       " (array([-7, 23]), 1),\n",
       " (array([-13,  60]), 1),\n",
       " (array([ 47, -28]), 1),\n",
       " (array([ 99, -13]), 1),\n",
       " (array([16, 83]), 1),\n",
       " (array([-36,  64]), 1),\n",
       " (array([ 22, -17]), 1),\n",
       " (array([-42,  71]), 1),\n",
       " (array([ 93, -30]), 1),\n",
       " (array([-20,  54]), 1),\n",
       " (array([24, 63]), 1),\n",
       " (array([-42,  77]), 1),\n",
       " (array([-40,  44]), 1),\n",
       " (array([  3, -91]), -1),\n",
       " (array([-79, -64]), -1),\n",
       " (array([-13, -30]), -1),\n",
       " (array([-61, -13]), -1),\n",
       " (array([-75, -23]), -1),\n",
       " (array([-28, -91]), -1),\n",
       " (array([-69,  51]), -1),\n",
       " (array([-66,  28]), -1),\n",
       " (array([-62, -83]), -1),\n",
       " (array([-18,  -9]), -1),\n",
       " (array([-32, -94]), -1),\n",
       " (array([-52,  -7]), -1),\n",
       " (array([ 14, -57]), -1),\n",
       " (array([-86, -59]), -1),\n",
       " (array([-14, -57]), -1),\n",
       " (array([  4, -89]), -1),\n",
       " (array([-98, -49]), -1),\n",
       " (array([-20, -68]), -1),\n",
       " (array([ 25, -98]), -1),\n",
       " (array([-97,  -6]), -1),\n",
       " (array([  7, -87]), -1),\n",
       " (array([ 12, -60]), -1),\n",
       " (array([-28, -81]), -1),\n",
       " (array([ -5, -28]), -1),\n",
       " (array([-39, -86]), -1),\n",
       " (array([ -4, -96]), -1),\n",
       " (array([  9, -25]), -1),\n",
       " (array([ 84, -84]), -1),\n",
       " (array([-69, -87]), -1),\n",
       " (array([-59, -82]), -1),\n",
       " (array([-56,  25]), -1)]"
      ]
     },
     "execution_count": 10,
     "metadata": {},
     "output_type": "execute_result"
    }
   ],
   "source": [
    "data"
   ]
  },
  {
   "cell_type": "code",
   "execution_count": 23,
   "id": "3b987aef-f77b-43e5-a580-2115a94d43a7",
   "metadata": {},
   "outputs": [],
   "source": [
    "# plotting the line "
   ]
  },
  {
   "cell_type": "code",
   "execution_count": 29,
   "id": "c03baa17-9cc9-4afc-8052-a1fd87b18649",
   "metadata": {},
   "outputs": [
    {
     "data": {
      "text/plain": [
       "Text(0, 0.5, 'y-axis')"
      ]
     },
     "execution_count": 29,
     "metadata": {},
     "output_type": "execute_result"
    },
    {
     "data": {
      "image/png": "[encoded data removed]",
      "text/plain": [
       "<Figure size 432x288 with 1 Axes>"
      ]
     },
     "metadata": {
      "needs_background": "light"
     },
     "output_type": "display_data"
    }
   ],
   "source": [
    "plt.scatter([x[0][0] for x in pos],[x[0][1] for x in pos],color='red',label='class 1')\n",
    "plt.scatter([x[0][0] for x in neg],[x[0][1] for x in neg],color='black',label='class -1')\n",
    "\n",
    "x=np.linspace(-100,100,100)\n",
    "y=(-cons[2]-cons[0]*x)/cons[1]\n",
    "plt.plot(x,y,color='orange',label='decision boundary')\n",
    "\n",
    "plt.legend()\n",
    "plt.xlabel('x-axis')\n",
    "plt.ylabel('y-axis')"
   ]
  },
  {
   "cell_type": "code",
   "execution_count": 26,
   "id": "f553c2f8-6c9a-4f3e-8a53-072579571b1d",
   "metadata": {},
   "outputs": [],
   "source": [
    "# generating coefficients , random w"
   ]
  },
  {
   "cell_type": "code",
   "execution_count": 12,
   "id": "e3bf14bd-b337-454d-aa8e-191cfe65daf9",
   "metadata": {},
   "outputs": [],
   "source": [
    "w=np.random.randint(0,100,3)"
   ]
  },
  {
   "cell_type": "code",
   "execution_count": 25,
   "id": "c3404cd7-f75c-44f7-935b-5ae4fecf2191",
   "metadata": {},
   "outputs": [],
   "source": [
    "# learning funtion"
   ]
  },
  {
   "cell_type": "code",
   "execution_count": 13,
   "id": "eba20d60-80e2-4a5e-8b94-bada98aefe13",
   "metadata": {},
   "outputs": [],
   "source": [
    "def check(a,data):\n",
    "    for i in range(len(data)):\n",
    "        pt=data[i]\n",
    "        if preds(a,pt[0])*pt[1]!=1:\n",
    "            return False\n",
    "    return True"
   ]
  },
  {
   "cell_type": "code",
   "execution_count": 14,
   "id": "b9362b11-6be5-4589-951f-ab3fac8fc242",
   "metadata": {},
   "outputs": [],
   "source": [
    "def learn(a,data):\n",
    "    while True:\n",
    "        if check(a,data) is True:\n",
    "            return a\n",
    "        else:\n",
    "            pt=random.choice(data)\n",
    "            a=a+pt[1]*np.concatenate((pt[0],[1]))"
   ]
  },
  {
   "cell_type": "code",
   "execution_count": 15,
   "id": "91a75d1c-49a0-46fe-b788-2b1b03424164",
   "metadata": {},
   "outputs": [
    {
     "data": {
      "text/plain": [
       "array([349, 388,  30])"
      ]
     },
     "execution_count": 15,
     "metadata": {},
     "output_type": "execute_result"
    }
   ],
   "source": [
    "learn(w,data)"
   ]
  },
  {
   "cell_type": "code",
   "execution_count": 32,
   "id": "0dafc032-cda9-4546-be8f-282f4b616ec2",
   "metadata": {},
   "outputs": [
    {
     "data": {
      "text/plain": [
       "<matplotlib.legend.Legend at 0x7f80a388a5b0>"
      ]
     },
     "execution_count": 32,
     "metadata": {},
     "output_type": "execute_result"
    },
    {
     "data": {
      "image/png": "[encoded data removed]",
      "text/plain": [
       "<Figure size 720x576 with 1 Axes>"
      ]
     },
     "metadata": {
      "needs_background": "light"
     },
     "output_type": "display_data"
    }
   ],
   "source": [
    "plt.figure(figsize=(10,8))\n",
    "plt.scatter([x[0][0] for x in pos],[x[0][1] for x in pos],color='red',label='class 1')\n",
    "plt.scatter([x[0][0] for x in neg],[x[0][1] for x in neg],color='green',label='class -1')\n",
    "\n",
    "x=np.linspace(-100,100,100)\n",
    "y=(-cons[2]-cons[0]*x)/cons[1]\n",
    "plt.plot(x,y,color='brown',label='decision boundary')\n",
    "\n",
    "x=np.linspace(-100,100,100)\n",
    "y=(-w[2]-w[0]*x)/w[1]\n",
    "plt.plot(x,y,color='orange',label='prediction boundary')\n",
    "\n",
    "plt.legend()"
   ]
  },
  {
   "cell_type": "code",
   "execution_count": 28,
   "id": "118dc91d-c64e-4bd2-94cb-4daae702bd00",
   "metadata": {},
   "outputs": [],
   "source": [
    "# Collaborated with Manu Singhal "
   ]
  },
  {
   "cell_type": "code",
   "execution_count": null,
   "id": "33eab1ed-1750-4576-8a91-3cfe64ee9165",
   "metadata": {},
   "outputs": [],
   "source": []
  }
 ],
 "metadata": {
  "kernelspec": {
   "display_name": "Python 3",
   "language": "python",
   "name": "python3"
  },
  "language_info": {
   "codemirror_mode": {
    "name": "ipython",
    "version": 3
   },
   "file_extension": ".py",
   "mimetype": "text/x-python",
   "name": "python",
   "nbconvert_exporter": "python",
   "pygments_lexer": "ipython3",
   "version": "3.8.8"
  }
 },
 "nbformat": 4,
 "nbformat_minor": 5
}
