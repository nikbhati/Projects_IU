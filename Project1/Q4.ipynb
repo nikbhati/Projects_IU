{
 "cells": [
  {
   "cell_type": "code",
   "execution_count": 29,
   "id": "555f2b76-28fa-4b62-8982-2e58650b32f8",
   "metadata": {},
   "outputs": [],
   "source": [
    "from sklearn.datasets import load_iris"
   ]
  },
  {
   "cell_type": "code",
   "execution_count": 2,
   "id": "f9ab4a7d-4f63-4518-8348-0f06e9fc235e",
   "metadata": {},
   "outputs": [],
   "source": [
    "import pandas as pd\n",
    "import numpy as np\n",
    "import operator\n",
    "import matplotlib.pyplot as plt"
   ]
  },
  {
   "cell_type": "code",
   "execution_count": 3,
   "id": "13cb3cae-f2da-44dc-a612-0903ddf8d60e",
   "metadata": {},
   "outputs": [],
   "source": [
    "iris=load_iris()"
   ]
  },
  {
   "cell_type": "code",
   "execution_count": 4,
   "id": "967d27d1-ed31-4dc8-beac-85ce194ddd17",
   "metadata": {},
   "outputs": [
    {
     "data": {
      "text/plain": [
       "['sepal length (cm)',\n",
       " 'sepal width (cm)',\n",
       " 'petal length (cm)',\n",
       " 'petal width (cm)']"
      ]
     },
     "execution_count": 4,
     "metadata": {},
     "output_type": "execute_result"
    }
   ],
   "source": [
    "iris.feature_names"
   ]
  },
  {
   "cell_type": "code",
   "execution_count": 5,
   "id": "7a063542-113d-4dec-ace9-d75341893bc0",
   "metadata": {},
   "outputs": [
    {
     "data": {
      "text/plain": [
       "array(['setosa', 'versicolor', 'virginica'], dtype='<U10')"
      ]
     },
     "execution_count": 5,
     "metadata": {},
     "output_type": "execute_result"
    }
   ],
   "source": [
    "iris.target_names"
   ]
  },
  {
   "cell_type": "code",
   "execution_count": 6,
   "id": "a5709257-7581-4ed9-9cdc-7364f575ff7c",
   "metadata": {},
   "outputs": [],
   "source": [
    "data = pd.read_csv('iris.data', header=None, names=['sepal_length', 'sepal_width', 'petal_length', 'petal_width', 'class'])\n"
   ]
  },
  {
   "cell_type": "code",
   "execution_count": 7,
   "id": "140be63e-67d4-4957-8432-f6d8749c0f74",
   "metadata": {},
   "outputs": [
    {
     "data": {
      "text/html": [
       "<div>\n",
       "<style scoped>\n",
       "    .dataframe tbody tr th:only-of-type {\n",
       "        vertical-align: middle;\n",
       "    }\n",
       "\n",
       "    .dataframe tbody tr th {\n",
       "        vertical-align: top;\n",
       "    }\n",
       "\n",
       "    .dataframe thead th {\n",
       "        text-align: right;\n",
       "    }\n",
       "</style>\n",
       "<table border=\"1\" class=\"dataframe\">\n",
       "  <thead>\n",
       "    <tr style=\"text-align: right;\">\n",
       "      <th></th>\n",
       "      <th>sepal_length</th>\n",
       "      <th>sepal_width</th>\n",
       "      <th>petal_length</th>\n",
       "      <th>petal_width</th>\n",
       "      <th>class</th>\n",
       "    </tr>\n",
       "  </thead>\n",
       "  <tbody>\n",
       "    <tr>\n",
       "      <th>0</th>\n",
       "      <td>5.1</td>\n",
       "      <td>3.5</td>\n",
       "      <td>1.4</td>\n",
       "      <td>0.2</td>\n",
       "      <td>Iris-setosa</td>\n",
       "    </tr>\n",
       "    <tr>\n",
       "      <th>1</th>\n",
       "      <td>4.9</td>\n",
       "      <td>3.0</td>\n",
       "      <td>1.4</td>\n",
       "      <td>0.2</td>\n",
       "      <td>Iris-setosa</td>\n",
       "    </tr>\n",
       "    <tr>\n",
       "      <th>2</th>\n",
       "      <td>4.7</td>\n",
       "      <td>3.2</td>\n",
       "      <td>1.3</td>\n",
       "      <td>0.2</td>\n",
       "      <td>Iris-setosa</td>\n",
       "    </tr>\n",
       "    <tr>\n",
       "      <th>3</th>\n",
       "      <td>4.6</td>\n",
       "      <td>3.1</td>\n",
       "      <td>1.5</td>\n",
       "      <td>0.2</td>\n",
       "      <td>Iris-setosa</td>\n",
       "    </tr>\n",
       "    <tr>\n",
       "      <th>4</th>\n",
       "      <td>5.0</td>\n",
       "      <td>3.6</td>\n",
       "      <td>1.4</td>\n",
       "      <td>0.2</td>\n",
       "      <td>Iris-setosa</td>\n",
       "    </tr>\n",
       "  </tbody>\n",
       "</table>\n",
       "</div>"
      ],
      "text/plain": [
       "   sepal_length  sepal_width  petal_length  petal_width        class\n",
       "0           5.1          3.5           1.4          0.2  Iris-setosa\n",
       "1           4.9          3.0           1.4          0.2  Iris-setosa\n",
       "2           4.7          3.2           1.3          0.2  Iris-setosa\n",
       "3           4.6          3.1           1.5          0.2  Iris-setosa\n",
       "4           5.0          3.6           1.4          0.2  Iris-setosa"
      ]
     },
     "execution_count": 7,
     "metadata": {},
     "output_type": "execute_result"
    }
   ],
   "source": [
    "data.head()"
   ]
  },
  {
   "cell_type": "code",
   "execution_count": 8,
   "id": "0ccce265-0cc0-43d6-8560-1d4b2ace3576",
   "metadata": {},
   "outputs": [
    {
     "data": {
      "text/plain": [
       "sepal_length    0\n",
       "sepal_width     0\n",
       "petal_length    0\n",
       "petal_width     0\n",
       "class           0\n",
       "dtype: int64"
      ]
     },
     "execution_count": 8,
     "metadata": {},
     "output_type": "execute_result"
    }
   ],
   "source": [
    "data.isnull().sum()"
   ]
  },
  {
   "cell_type": "code",
   "execution_count": 9,
   "id": "c3edb45f-ee71-4cd3-9887-85819e9a2981",
   "metadata": {},
   "outputs": [],
   "source": [
    "from sklearn.model_selection import train_test_split\n",
    "data_features = data.drop(\"class\", axis=1)\n",
    "# split dataframe and income\n",
    "X_train, X_test, y_train, y_test = train_test_split(data_features, data['class'], random_state=0)"
   ]
  },
  {
   "cell_type": "code",
   "execution_count": 10,
   "id": "fcaf9c46-194d-48d8-ab7b-e6da0230445a",
   "metadata": {},
   "outputs": [],
   "source": [
    "def euclideanDistance(data_1, data_2, data_len):\n",
    "    dist = 0\n",
    "    for i in range(data_len):\n",
    "        dist = dist + np.square(data_1[i] - data_2[i])\n",
    "    return np.sqrt(dist)"
   ]
  },
  {
   "cell_type": "code",
   "execution_count": 11,
   "id": "928598d5-9356-4f06-b8a7-7ac5e6e3ffb1",
   "metadata": {},
   "outputs": [],
   "source": [
    "def knn1(x_train, y_train, testInstance, k): \n",
    "    distances = []\n",
    "    mapping = []\n",
    "    length = testInstance.shape[1]\n",
    "    for x in range(len(x_train)):\n",
    "        dist_up = euclideanDistance(testInstance, x_train.iloc[x], length)\n",
    "        val = dist_up[0]\n",
    "\n",
    "        if(len(distances)==k):\n",
    "            ind = 0\n",
    "            for item in distances:\n",
    "                if item > val:\n",
    "                    distances.insert(ind, val)\n",
    "                    distances.pop(-1)\n",
    "                    mapping.insert(ind,x)\n",
    "                    mapping.pop(-1)\n",
    "                    break\n",
    "                else:\n",
    "                    ind+=1\n",
    "        elif(len(distances)==0):\n",
    "            distances.append(val)\n",
    "            mapping.append(x)\n",
    "        else:\n",
    "            ind = 0\n",
    "            flag=1\n",
    "            for item in distances:\n",
    "                if item > val:\n",
    "                    distances.insert(ind, val)\n",
    "                    mapping.insert(ind, x)\n",
    "                    flag=0\n",
    "                    break\n",
    "                else:\n",
    "                    ind+=1\n",
    "            if flag==1:\n",
    "                distances.append(val)\n",
    "                mapping.append(x)\n",
    "    sort_distances = []\n",
    "    i = 0\n",
    "\n",
    "    while(i<len(mapping)):\n",
    "        sort_distances.append((mapping[i], distances[i]))\n",
    "        i+=1\n",
    "    neighbors = []\n",
    "    # Extracting nearest k neighbors\n",
    "    for x in range(k):\n",
    "        neighbors.append(sort_distances[x][0])\n",
    "    # Initializing counts for 'class' labels counts as 0\n",
    "    counts = {\"Iris-setosa\" : 0, \"Iris-versicolor\" : 0, \"Iris-virginica\" : 0}\n",
    "    # Computing the most frequent class\n",
    "    for x in range(len(neighbors)):\n",
    "\n",
    "        response = y_train.iloc[neighbors[x]]\n",
    "        if response in counts:\n",
    "            counts[response] += 1\n",
    "        else:\n",
    "            counts[response] = 1\n",
    "    \n",
    "    sort_counts = sorted(counts.items(), key=operator.itemgetter(1), reverse=True)\n",
    "    return(sort_counts[0][0])"
   ]
  },
  {
   "cell_type": "code",
   "execution_count": 12,
   "id": "b69a57cb-00d6-4f27-a129-8f61487c5ecd",
   "metadata": {},
   "outputs": [
    {
     "name": "stderr",
     "output_type": "stream",
     "text": [
      "100%|██████████| 112/112 [00:09<00:00, 11.80it/s]\n",
      "100%|██████████| 112/112 [00:09<00:00, 11.93it/s]\n",
      "100%|██████████| 112/112 [00:09<00:00, 11.93it/s]\n",
      "100%|██████████| 112/112 [00:09<00:00, 11.85it/s]\n"
     ]
    }
   ],
   "source": [
    "import numpy as np\n",
    "import tqdm\n",
    "row_list = []\n",
    "for index, rows in X_train.iterrows():\n",
    "    my_list =[rows.sepal_length, rows.sepal_width, rows.petal_length, rows.petal_width]       \n",
    "    row_list.append([my_list])\n",
    "\n",
    "k_n = [1, 3, 5, 7]\n",
    "dist_method = 'euclidean'\n",
    "\n",
    "obs_k = {}\n",
    "development_set_obs_k = {}\n",
    "for k in k_n:\n",
    "    development_set_obs = []\n",
    "    for i in tqdm.tqdm(range(len(row_list))):\n",
    "        development_set_obs.append(knn1(X_train, y_train, pd.DataFrame(row_list[i]), k))\n",
    "    development_set_obs_k[k] = development_set_obs\n",
    "obs_k[dist_method] = development_set_obs_k"
   ]
  },
  {
   "cell_type": "code",
   "execution_count": 13,
   "id": "f0270596-ca69-4fd1-b3a8-bb459e91f8fd",
   "metadata": {},
   "outputs": [
    {
     "name": "stdout",
     "output_type": "stream",
     "text": [
      "{'euclidean': {1: 1.0, 3: 0.9642857142857143, 5: 0.9732142857142857, 7: 0.9732142857142857}}\n"
     ]
    }
   ],
   "source": [
    "accuracy = {}\n",
    "for key in obs_k.keys():\n",
    "    accuracy[key] = {}\n",
    "    for k_value in obs_k[key].keys():\n",
    "        \n",
    "        count = 0\n",
    "        for i,j in zip(y_train, obs_k[key][k_value]):\n",
    "            if i == j:\n",
    "                count = count + 1\n",
    "            else:\n",
    "                pass\n",
    "        accuracy[key][k_value] = count/(len(y_train))\n",
    "print(accuracy)"
   ]
  },
  {
   "cell_type": "code",
   "execution_count": null,
   "id": "5cf3b715-7561-4eea-9ea1-7655c711d5bd",
   "metadata": {},
   "outputs": [],
   "source": []
  },
  {
   "cell_type": "code",
   "execution_count": 14,
   "id": "7d5da596-d61a-4f05-872d-ff9252287cc4",
   "metadata": {},
   "outputs": [],
   "source": [
    "# Solving with heap now "
   ]
  },
  {
   "cell_type": "code",
   "execution_count": 15,
   "id": "6d29ce7d-496b-43de-a096-219bb75a6ab1",
   "metadata": {},
   "outputs": [],
   "source": [
    "from sklearn.metrics.pairwise import euclidean_distances\n",
    "from sklearn.metrics import precision_score\n",
    "from sklearn.metrics import accuracy_score\n",
    "import heapq"
   ]
  },
  {
   "cell_type": "code",
   "execution_count": 16,
   "id": "d3050b30-0a6d-4a4c-8a99-3da13d2dedf4",
   "metadata": {},
   "outputs": [],
   "source": [
    "iris=data.copy()"
   ]
  },
  {
   "cell_type": "code",
   "execution_count": 17,
   "id": "6bfa59a0-0341-44ff-86ea-94b78182c106",
   "metadata": {},
   "outputs": [
    {
     "data": {
      "text/html": [
       "<div>\n",
       "<style scoped>\n",
       "    .dataframe tbody tr th:only-of-type {\n",
       "        vertical-align: middle;\n",
       "    }\n",
       "\n",
       "    .dataframe tbody tr th {\n",
       "        vertical-align: top;\n",
       "    }\n",
       "\n",
       "    .dataframe thead th {\n",
       "        text-align: right;\n",
       "    }\n",
       "</style>\n",
       "<table border=\"1\" class=\"dataframe\">\n",
       "  <thead>\n",
       "    <tr style=\"text-align: right;\">\n",
       "      <th></th>\n",
       "      <th>sepal_length</th>\n",
       "      <th>sepal_width</th>\n",
       "      <th>petal_length</th>\n",
       "      <th>petal_width</th>\n",
       "      <th>class</th>\n",
       "    </tr>\n",
       "  </thead>\n",
       "  <tbody>\n",
       "    <tr>\n",
       "      <th>0</th>\n",
       "      <td>5.1</td>\n",
       "      <td>3.5</td>\n",
       "      <td>1.4</td>\n",
       "      <td>0.2</td>\n",
       "      <td>Iris-setosa</td>\n",
       "    </tr>\n",
       "    <tr>\n",
       "      <th>1</th>\n",
       "      <td>4.9</td>\n",
       "      <td>3.0</td>\n",
       "      <td>1.4</td>\n",
       "      <td>0.2</td>\n",
       "      <td>Iris-setosa</td>\n",
       "    </tr>\n",
       "    <tr>\n",
       "      <th>2</th>\n",
       "      <td>4.7</td>\n",
       "      <td>3.2</td>\n",
       "      <td>1.3</td>\n",
       "      <td>0.2</td>\n",
       "      <td>Iris-setosa</td>\n",
       "    </tr>\n",
       "    <tr>\n",
       "      <th>3</th>\n",
       "      <td>4.6</td>\n",
       "      <td>3.1</td>\n",
       "      <td>1.5</td>\n",
       "      <td>0.2</td>\n",
       "      <td>Iris-setosa</td>\n",
       "    </tr>\n",
       "    <tr>\n",
       "      <th>4</th>\n",
       "      <td>5.0</td>\n",
       "      <td>3.6</td>\n",
       "      <td>1.4</td>\n",
       "      <td>0.2</td>\n",
       "      <td>Iris-setosa</td>\n",
       "    </tr>\n",
       "  </tbody>\n",
       "</table>\n",
       "</div>"
      ],
      "text/plain": [
       "   sepal_length  sepal_width  petal_length  petal_width        class\n",
       "0           5.1          3.5           1.4          0.2  Iris-setosa\n",
       "1           4.9          3.0           1.4          0.2  Iris-setosa\n",
       "2           4.7          3.2           1.3          0.2  Iris-setosa\n",
       "3           4.6          3.1           1.5          0.2  Iris-setosa\n",
       "4           5.0          3.6           1.4          0.2  Iris-setosa"
      ]
     },
     "execution_count": 17,
     "metadata": {},
     "output_type": "execute_result"
    }
   ],
   "source": [
    "iris.head()"
   ]
  },
  {
   "cell_type": "code",
   "execution_count": 18,
   "id": "9cd75ca3-3a06-493e-bd79-bf4cbc8c1222",
   "metadata": {},
   "outputs": [],
   "source": [
    "x=iris.drop('class',axis=1)\n",
    "y=iris['class']"
   ]
  },
  {
   "cell_type": "code",
   "execution_count": 19,
   "id": "c06f9461-ba20-43d3-b6d1-5512291a62b2",
   "metadata": {},
   "outputs": [],
   "source": [
    "x_train, x_test, y_train, y_test = train_test_split(x,y,test_size=0.33) \n",
    "# split dataset into train and test"
   ]
  },
  {
   "cell_type": "code",
   "execution_count": 20,
   "id": "83ce8ba3-c4ba-41f2-9178-1d313e33aa67",
   "metadata": {},
   "outputs": [],
   "source": [
    "# will give us predicted value from the heap, heap is already sorted\n",
    "def pred(heap):\n",
    "    cl=[a[1] for a in heap]\n",
    "    return max(cl)"
   ]
  },
  {
   "cell_type": "code",
   "execution_count": 21,
   "id": "a6a27cc2-2c15-41ff-96c3-91e79ceb3f5a",
   "metadata": {},
   "outputs": [],
   "source": [
    "def knn(pt,x_train,y_train,k=3):\n",
    "    pt_arr=np.tile(np.array(pt),(len(x_train),1))\n",
    "    # will give us array of points and same shape as x_train\n",
    "    eucl_dist=np.sum(np.square(pt_arr-x_train),axis=1)\n",
    "    # get euclidean distance between point and dataset\n",
    "    mh=[]\n",
    "    # empty heap to store distance values\n",
    "    for i in range (len(x_train)):\n",
    "        heapq.heappush(mh,(eucl_dist.iloc[i],y_train.iloc[i]))\n",
    "    topk=[mh[i] for i in range(k)]\n",
    "    # heap list is sorted and we need top k elements\n",
    "    return pred(topk)"
   ]
  },
  {
   "cell_type": "code",
   "execution_count": 23,
   "id": "46fc2912-2f92-4b4a-9e0c-117f112a5b2d",
   "metadata": {},
   "outputs": [],
   "source": [
    "y_pred=[]"
   ]
  },
  {
   "cell_type": "code",
   "execution_count": 24,
   "id": "e185e044-ccbd-4f1b-a383-abcef6134fdd",
   "metadata": {},
   "outputs": [],
   "source": [
    "for i in range(len(x_test)):\n",
    "    y_pred.append(knn(x_test.iloc[i],x_train,y_train))"
   ]
  },
  {
   "cell_type": "code",
   "execution_count": 33,
   "id": "e55ff1cd-7e93-4e62-ad32-13cf0655c44e",
   "metadata": {},
   "outputs": [],
   "source": [
    "from sklearn.metrics import classification_report"
   ]
  },
  {
   "cell_type": "code",
   "execution_count": 34,
   "id": "8dd7c029-9980-455f-a712-7e0e28a4b8df",
   "metadata": {},
   "outputs": [
    {
     "name": "stdout",
     "output_type": "stream",
     "text": [
      "                 precision    recall  f1-score   support\n",
      "\n",
      "    Iris-setosa       1.00      1.00      1.00        18\n",
      "Iris-versicolor       1.00      0.88      0.94        17\n",
      " Iris-virginica       0.88      1.00      0.94        15\n",
      "\n",
      "       accuracy                           0.96        50\n",
      "      macro avg       0.96      0.96      0.96        50\n",
      "   weighted avg       0.96      0.96      0.96        50\n",
      "\n"
     ]
    }
   ],
   "source": [
    "print(classification_report(y_test,y_pred))"
   ]
  },
  {
   "cell_type": "code",
   "execution_count": null,
   "id": "5a3b76a9-dfc7-4b6e-bf5f-4857f304be4d",
   "metadata": {},
   "outputs": [],
   "source": []
  },
  {
   "cell_type": "code",
   "execution_count": 31,
   "id": "9a249aaf-ebfc-43ad-99e4-6a3ab14fac06",
   "metadata": {},
   "outputs": [],
   "source": [
    "# if heap is used for searching, then the complexity becomes O(nlogn) for heap.push()\n",
    "# where n is number of data points in the training set"
   ]
  },
  {
   "cell_type": "code",
   "execution_count": 32,
   "id": "7bec5d00-9523-481d-b5ee-0fc775aa98f9",
   "metadata": {},
   "outputs": [],
   "source": [
    "# precision comes out to be 96% \n",
    "# heap complexity is O(N^2) as we use insert and heap.pop()"
   ]
  },
  {
   "cell_type": "code",
   "execution_count": 35,
   "id": "f90a395c-6090-4068-b44f-5429d6b0812c",
   "metadata": {},
   "outputs": [],
   "source": [
    "# collaborated with Manu Singhal"
   ]
  },
  {
   "cell_type": "code",
   "execution_count": 36,
   "id": "9251629d-1635-44a7-998d-c5e614f9dc86",
   "metadata": {},
   "outputs": [],
   "source": [
    "# references \n",
    "# https://towardsdatascience.com/how-to-build-knn-from-scratch-in-python-5e22b8920bd2"
   ]
  },
  {
   "cell_type": "code",
   "execution_count": null,
   "id": "63caa98b-238e-4c0a-8c32-e2891319bd38",
   "metadata": {},
   "outputs": [],
   "source": []
  }
 ],
 "metadata": {
  "kernelspec": {
   "display_name": "Python 3",
   "language": "python",
   "name": "python3"
  },
  "language_info": {
   "codemirror_mode": {
    "name": "ipython",
    "version": 3
   },
   "file_extension": ".py",
   "mimetype": "text/x-python",
   "name": "python",
   "nbconvert_exporter": "python",
   "pygments_lexer": "ipython3",
   "version": "3.8.8"
  }
 },
 "nbformat": 4,
 "nbformat_minor": 5
}
